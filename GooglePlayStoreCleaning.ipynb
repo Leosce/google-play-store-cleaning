{
 "cells": [
  {
   "cell_type": "markdown",
   "id": "bf9ad4f5-27ae-442d-ba48-2e8f5bdce9a6",
   "metadata": {},
   "source": [
    "### Simple data overview:"
   ]
  },
  {
   "cell_type": "code",
   "execution_count": 2,
   "id": "777ff23e-3752-4c33-90cd-b4e7f53c8110",
   "metadata": {},
   "outputs": [],
   "source": [
    "#import libraries.\n",
    "import pandas as pd\n",
    "import numpy as np\n",
    "import matplotlib.pyplot as plt\n",
    "import seaborn as sns"
   ]
  },
  {
   "cell_type": "code",
   "execution_count": 3,
   "id": "f2da6036-7274-4dd2-8e30-0211bc5ff109",
   "metadata": {},
   "outputs": [],
   "source": [
    "#read the csv.\n",
    "df=pd.read_csv('googleplaystore.csv',na_values='nan')"
   ]
  },
  {
   "cell_type": "code",
   "execution_count": 4,
   "id": "88a6f785-e7a8-42c0-bd34-3c6c4623d69b",
   "metadata": {},
   "outputs": [
    {
     "data": {
      "text/html": [
       "<div>\n",
       "<style scoped>\n",
       "    .dataframe tbody tr th:only-of-type {\n",
       "        vertical-align: middle;\n",
       "    }\n",
       "\n",
       "    .dataframe tbody tr th {\n",
       "        vertical-align: top;\n",
       "    }\n",
       "\n",
       "    .dataframe thead th {\n",
       "        text-align: right;\n",
       "    }\n",
       "</style>\n",
       "<table border=\"1\" class=\"dataframe\">\n",
       "  <thead>\n",
       "    <tr style=\"text-align: right;\">\n",
       "      <th></th>\n",
       "      <th>App</th>\n",
       "      <th>Category</th>\n",
       "      <th>Rating</th>\n",
       "      <th>Reviews</th>\n",
       "      <th>Size</th>\n",
       "      <th>Installs</th>\n",
       "      <th>Type</th>\n",
       "      <th>Price</th>\n",
       "      <th>Content Rating</th>\n",
       "      <th>Genres</th>\n",
       "      <th>Last Updated</th>\n",
       "      <th>Current Ver</th>\n",
       "      <th>Android Ver</th>\n",
       "    </tr>\n",
       "  </thead>\n",
       "  <tbody>\n",
       "    <tr>\n",
       "      <th>0</th>\n",
       "      <td>Photo Editor &amp; Candy Camera &amp; Grid &amp; ScrapBook</td>\n",
       "      <td>ART_AND_DESIGN</td>\n",
       "      <td>4.1</td>\n",
       "      <td>159</td>\n",
       "      <td>19M</td>\n",
       "      <td>10,000+</td>\n",
       "      <td>Free</td>\n",
       "      <td>0</td>\n",
       "      <td>Everyone</td>\n",
       "      <td>Art &amp; Design</td>\n",
       "      <td>January 7, 2018</td>\n",
       "      <td>1.0.0</td>\n",
       "      <td>4.0.3 and up</td>\n",
       "    </tr>\n",
       "    <tr>\n",
       "      <th>1</th>\n",
       "      <td>Coloring book moana</td>\n",
       "      <td>ART_AND_DESIGN</td>\n",
       "      <td>3.9</td>\n",
       "      <td>967</td>\n",
       "      <td>14M</td>\n",
       "      <td>500,000+</td>\n",
       "      <td>Free</td>\n",
       "      <td>0</td>\n",
       "      <td>Everyone</td>\n",
       "      <td>Art &amp; Design;Pretend Play</td>\n",
       "      <td>January 15, 2018</td>\n",
       "      <td>2.0.0</td>\n",
       "      <td>4.0.3 and up</td>\n",
       "    </tr>\n",
       "    <tr>\n",
       "      <th>2</th>\n",
       "      <td>U Launcher Lite – FREE Live Cool Themes, Hide ...</td>\n",
       "      <td>ART_AND_DESIGN</td>\n",
       "      <td>4.7</td>\n",
       "      <td>87510</td>\n",
       "      <td>8.7M</td>\n",
       "      <td>5,000,000+</td>\n",
       "      <td>Free</td>\n",
       "      <td>0</td>\n",
       "      <td>Everyone</td>\n",
       "      <td>Art &amp; Design</td>\n",
       "      <td>August 1, 2018</td>\n",
       "      <td>1.2.4</td>\n",
       "      <td>4.0.3 and up</td>\n",
       "    </tr>\n",
       "    <tr>\n",
       "      <th>3</th>\n",
       "      <td>Sketch - Draw &amp; Paint</td>\n",
       "      <td>ART_AND_DESIGN</td>\n",
       "      <td>4.5</td>\n",
       "      <td>215644</td>\n",
       "      <td>25M</td>\n",
       "      <td>50,000,000+</td>\n",
       "      <td>Free</td>\n",
       "      <td>0</td>\n",
       "      <td>Teen</td>\n",
       "      <td>Art &amp; Design</td>\n",
       "      <td>June 8, 2018</td>\n",
       "      <td>Varies with device</td>\n",
       "      <td>4.2 and up</td>\n",
       "    </tr>\n",
       "    <tr>\n",
       "      <th>4</th>\n",
       "      <td>Pixel Draw - Number Art Coloring Book</td>\n",
       "      <td>ART_AND_DESIGN</td>\n",
       "      <td>4.3</td>\n",
       "      <td>967</td>\n",
       "      <td>2.8M</td>\n",
       "      <td>100,000+</td>\n",
       "      <td>Free</td>\n",
       "      <td>0</td>\n",
       "      <td>Everyone</td>\n",
       "      <td>Art &amp; Design;Creativity</td>\n",
       "      <td>June 20, 2018</td>\n",
       "      <td>1.1</td>\n",
       "      <td>4.4 and up</td>\n",
       "    </tr>\n",
       "  </tbody>\n",
       "</table>\n",
       "</div>"
      ],
      "text/plain": [
       "                                                 App        Category  Rating  \\\n",
       "0     Photo Editor & Candy Camera & Grid & ScrapBook  ART_AND_DESIGN     4.1   \n",
       "1                                Coloring book moana  ART_AND_DESIGN     3.9   \n",
       "2  U Launcher Lite – FREE Live Cool Themes, Hide ...  ART_AND_DESIGN     4.7   \n",
       "3                              Sketch - Draw & Paint  ART_AND_DESIGN     4.5   \n",
       "4              Pixel Draw - Number Art Coloring Book  ART_AND_DESIGN     4.3   \n",
       "\n",
       "  Reviews  Size     Installs  Type Price Content Rating  \\\n",
       "0     159   19M      10,000+  Free     0       Everyone   \n",
       "1     967   14M     500,000+  Free     0       Everyone   \n",
       "2   87510  8.7M   5,000,000+  Free     0       Everyone   \n",
       "3  215644   25M  50,000,000+  Free     0           Teen   \n",
       "4     967  2.8M     100,000+  Free     0       Everyone   \n",
       "\n",
       "                      Genres      Last Updated         Current Ver  \\\n",
       "0               Art & Design   January 7, 2018               1.0.0   \n",
       "1  Art & Design;Pretend Play  January 15, 2018               2.0.0   \n",
       "2               Art & Design    August 1, 2018               1.2.4   \n",
       "3               Art & Design      June 8, 2018  Varies with device   \n",
       "4    Art & Design;Creativity     June 20, 2018                 1.1   \n",
       "\n",
       "    Android Ver  \n",
       "0  4.0.3 and up  \n",
       "1  4.0.3 and up  \n",
       "2  4.0.3 and up  \n",
       "3    4.2 and up  \n",
       "4    4.4 and up  "
      ]
     },
     "execution_count": 4,
     "metadata": {},
     "output_type": "execute_result"
    }
   ],
   "source": [
    "df.head()"
   ]
  },
  {
   "cell_type": "code",
   "execution_count": 5,
   "id": "bed69b7b-bc96-495b-9fc8-b084405acd97",
   "metadata": {},
   "outputs": [
    {
     "name": "stdout",
     "output_type": "stream",
     "text": [
      "<class 'pandas.core.frame.DataFrame'>\n",
      "RangeIndex: 10841 entries, 0 to 10840\n",
      "Data columns (total 13 columns):\n",
      " #   Column          Non-Null Count  Dtype  \n",
      "---  ------          --------------  -----  \n",
      " 0   App             10841 non-null  object \n",
      " 1   Category        10841 non-null  object \n",
      " 2   Rating          9367 non-null   float64\n",
      " 3   Reviews         10841 non-null  object \n",
      " 4   Size            10841 non-null  object \n",
      " 5   Installs        10841 non-null  object \n",
      " 6   Type            10840 non-null  object \n",
      " 7   Price           10841 non-null  object \n",
      " 8   Content Rating  10840 non-null  object \n",
      " 9   Genres          10841 non-null  object \n",
      " 10  Last Updated    10841 non-null  object \n",
      " 11  Current Ver     10833 non-null  object \n",
      " 12  Android Ver     10838 non-null  object \n",
      "dtypes: float64(1), object(12)\n",
      "memory usage: 1.1+ MB\n"
     ]
    }
   ],
   "source": [
    "df.info()"
   ]
  },
  {
   "cell_type": "code",
   "execution_count": 6,
   "id": "0c14e7a0-56da-4231-8bdd-70c222d088e1",
   "metadata": {},
   "outputs": [
    {
     "data": {
      "text/html": [
       "<div>\n",
       "<style scoped>\n",
       "    .dataframe tbody tr th:only-of-type {\n",
       "        vertical-align: middle;\n",
       "    }\n",
       "\n",
       "    .dataframe tbody tr th {\n",
       "        vertical-align: top;\n",
       "    }\n",
       "\n",
       "    .dataframe thead th {\n",
       "        text-align: right;\n",
       "    }\n",
       "</style>\n",
       "<table border=\"1\" class=\"dataframe\">\n",
       "  <thead>\n",
       "    <tr style=\"text-align: right;\">\n",
       "      <th></th>\n",
       "      <th>Rating</th>\n",
       "    </tr>\n",
       "  </thead>\n",
       "  <tbody>\n",
       "    <tr>\n",
       "      <th>count</th>\n",
       "      <td>9367.000000</td>\n",
       "    </tr>\n",
       "    <tr>\n",
       "      <th>mean</th>\n",
       "      <td>4.193338</td>\n",
       "    </tr>\n",
       "    <tr>\n",
       "      <th>std</th>\n",
       "      <td>0.537431</td>\n",
       "    </tr>\n",
       "    <tr>\n",
       "      <th>min</th>\n",
       "      <td>1.000000</td>\n",
       "    </tr>\n",
       "    <tr>\n",
       "      <th>25%</th>\n",
       "      <td>4.000000</td>\n",
       "    </tr>\n",
       "    <tr>\n",
       "      <th>50%</th>\n",
       "      <td>4.300000</td>\n",
       "    </tr>\n",
       "    <tr>\n",
       "      <th>75%</th>\n",
       "      <td>4.500000</td>\n",
       "    </tr>\n",
       "    <tr>\n",
       "      <th>max</th>\n",
       "      <td>19.000000</td>\n",
       "    </tr>\n",
       "  </tbody>\n",
       "</table>\n",
       "</div>"
      ],
      "text/plain": [
       "            Rating\n",
       "count  9367.000000\n",
       "mean      4.193338\n",
       "std       0.537431\n",
       "min       1.000000\n",
       "25%       4.000000\n",
       "50%       4.300000\n",
       "75%       4.500000\n",
       "max      19.000000"
      ]
     },
     "execution_count": 6,
     "metadata": {},
     "output_type": "execute_result"
    }
   ],
   "source": [
    "df.describe()"
   ]
  },
  {
   "cell_type": "markdown",
   "id": "f9dcf2c9-e097-49d7-825a-2a2e92aba2bc",
   "metadata": {},
   "source": [
    "### Data preprocessing and cleaning:"
   ]
  },
  {
   "cell_type": "code",
   "execution_count": 8,
   "id": "bda0415f-0d61-4340-a9f3-f70aa1fd0ce6",
   "metadata": {},
   "outputs": [
    {
     "data": {
      "text/plain": [
       "10472    19.0\n",
       "329       5.0\n",
       "612       5.0\n",
       "615       5.0\n",
       "633       5.0\n",
       "Name: Rating, dtype: float64"
      ]
     },
     "execution_count": 8,
     "metadata": {},
     "output_type": "execute_result"
    }
   ],
   "source": [
    "df['Rating'].nlargest(5)"
   ]
  },
  {
   "cell_type": "code",
   "execution_count": 9,
   "id": "0dc05e69-a386-48c8-a20d-646dbc9f8f41",
   "metadata": {},
   "outputs": [
    {
     "data": {
      "text/plain": [
       "App               Life Made WI-Fi Touchscreen Photo Frame\n",
       "Category                                              1.9\n",
       "Rating                                               19.0\n",
       "Reviews                                              3.0M\n",
       "Size                                               1,000+\n",
       "Installs                                             Free\n",
       "Type                                                    0\n",
       "Price                                            Everyone\n",
       "Content Rating                                        NaN\n",
       "Genres                                  February 11, 2018\n",
       "Last Updated                                       1.0.19\n",
       "Current Ver                                    4.0 and up\n",
       "Android Ver                                           NaN\n",
       "Name: 10472, dtype: object"
      ]
     },
     "execution_count": 9,
     "metadata": {},
     "output_type": "execute_result"
    }
   ],
   "source": [
    "#locating the row with the maximum value in column \"Rating\".\n",
    "loc=df['Rating'].idxmax()\n",
    "df.loc[loc]"
   ]
  },
  {
   "cell_type": "code",
   "execution_count": 10,
   "id": "01e08b35-68df-4b55-96f1-3f5a33a09ed0",
   "metadata": {},
   "outputs": [],
   "source": [
    "#values in category is set to float (to match the rating), then shifted the whole row one column ahead to fix the values.\n",
    "df.loc[loc,'Category']=float(df['Category'].loc[loc])\n",
    "df.loc[loc]=df.loc[loc].shift(1)"
   ]
  },
  {
   "cell_type": "code",
   "execution_count": 11,
   "id": "008e404b-a2c8-4e7d-916a-b6c4ffd3f498",
   "metadata": {},
   "outputs": [
    {
     "data": {
      "text/plain": [
       "App                                                  None\n",
       "Category          Life Made WI-Fi Touchscreen Photo Frame\n",
       "Rating                                                1.9\n",
       "Reviews                                              19.0\n",
       "Size                                                 3.0M\n",
       "Installs                                           1,000+\n",
       "Type                                                 Free\n",
       "Price                                                   0\n",
       "Content Rating                                   Everyone\n",
       "Genres                                                NaN\n",
       "Last Updated                            February 11, 2018\n",
       "Current Ver                                        1.0.19\n",
       "Android Ver                                    4.0 and up\n",
       "Name: 10472, dtype: object"
      ]
     },
     "execution_count": 11,
     "metadata": {},
     "output_type": "execute_result"
    }
   ],
   "source": [
    "df.loc[loc]"
   ]
  },
  {
   "cell_type": "code",
   "execution_count": 12,
   "id": "ceda1888-c53d-4e79-9759-ffc46cccd031",
   "metadata": {},
   "outputs": [],
   "source": [
    "#fix the 'app' column in this row.\n",
    "df.loc[loc,'App']=df.loc[loc,'Category']\n",
    "df.loc[loc]=df.loc[loc].drop('Category')"
   ]
  },
  {
   "cell_type": "code",
   "execution_count": 13,
   "id": "55638212-2e1d-4522-ad2f-5fbf9964bd03",
   "metadata": {},
   "outputs": [
    {
     "data": {
      "text/plain": [
       "App               Life Made WI-Fi Touchscreen Photo Frame\n",
       "Category                                              NaN\n",
       "Rating                                                1.9\n",
       "Reviews                                              19.0\n",
       "Size                                                 3.0M\n",
       "Installs                                           1,000+\n",
       "Type                                                 Free\n",
       "Price                                                   0\n",
       "Content Rating                                   Everyone\n",
       "Genres                                                NaN\n",
       "Last Updated                            February 11, 2018\n",
       "Current Ver                                        1.0.19\n",
       "Android Ver                                    4.0 and up\n",
       "Name: 10472, dtype: object"
      ]
     },
     "execution_count": 13,
     "metadata": {},
     "output_type": "execute_result"
    }
   ],
   "source": [
    "#row fixed, NaN values are fixeed later on.\n",
    "df.loc[loc]"
   ]
  },
  {
   "cell_type": "code",
   "execution_count": 14,
   "id": "c0372eeb-1379-4317-9703-a0762486b503",
   "metadata": {},
   "outputs": [],
   "source": [
    "#Reviews is set to object value, so we change it to float.\n",
    "df['Reviews']=df['Reviews'].astype(int)"
   ]
  },
  {
   "cell_type": "code",
   "execution_count": 15,
   "id": "65afe7b9-06ec-4bb8-be8e-81cc05767dd9",
   "metadata": {},
   "outputs": [
    {
     "data": {
      "text/plain": [
       "(10841, 13)"
      ]
     },
     "execution_count": 15,
     "metadata": {},
     "output_type": "execute_result"
    }
   ],
   "source": [
    "#shape before removing duplicates.\n",
    "df.shape"
   ]
  },
  {
   "cell_type": "code",
   "execution_count": 16,
   "id": "be9b9aaa-26a2-48a2-9173-18ce3416f711",
   "metadata": {},
   "outputs": [
    {
     "data": {
      "text/plain": [
       "483"
      ]
     },
     "execution_count": 16,
     "metadata": {},
     "output_type": "execute_result"
    }
   ],
   "source": [
    "df.duplicated().sum()"
   ]
  },
  {
   "cell_type": "code",
   "execution_count": 17,
   "id": "9fdc17ba-4504-4fed-b360-56307426482d",
   "metadata": {},
   "outputs": [],
   "source": [
    "#removing obvious duplicates.\n",
    "df.drop_duplicates(inplace=True)"
   ]
  },
  {
   "cell_type": "code",
   "execution_count": 18,
   "id": "e1be2aa5-6764-496f-a029-88e03f5a6894",
   "metadata": {},
   "outputs": [],
   "source": [
    "#removing hidden duplicates (repeated app names).\n",
    "lst=df.loc[df['App'].str.lower().duplicated()]\n",
    "df.drop(lst.index,inplace=True)"
   ]
  },
  {
   "cell_type": "code",
   "execution_count": 19,
   "id": "af9ff8d9-e2e6-4aca-9461-33c8fbb599a5",
   "metadata": {},
   "outputs": [
    {
     "data": {
      "text/plain": [
       "(9639, 13)"
      ]
     },
     "execution_count": 19,
     "metadata": {},
     "output_type": "execute_result"
    }
   ],
   "source": [
    "#shape after removing duplicates.\n",
    "df.shape"
   ]
  },
  {
   "cell_type": "code",
   "execution_count": 20,
   "id": "45aa12f5-4034-40cd-9347-9e292cbad6ed",
   "metadata": {},
   "outputs": [],
   "source": [
    "#reseting the index after removing duplicated values.\n",
    "df.reset_index(inplace=True)\n",
    "df.drop('index',axis=1,inplace=True)"
   ]
  },
  {
   "cell_type": "code",
   "execution_count": 21,
   "id": "be42018d-638b-421d-8b13-7b3aac73b488",
   "metadata": {},
   "outputs": [
    {
     "data": {
      "text/html": [
       "<div>\n",
       "<style scoped>\n",
       "    .dataframe tbody tr th:only-of-type {\n",
       "        vertical-align: middle;\n",
       "    }\n",
       "\n",
       "    .dataframe tbody tr th {\n",
       "        vertical-align: top;\n",
       "    }\n",
       "\n",
       "    .dataframe thead th {\n",
       "        text-align: right;\n",
       "    }\n",
       "</style>\n",
       "<table border=\"1\" class=\"dataframe\">\n",
       "  <thead>\n",
       "    <tr style=\"text-align: right;\">\n",
       "      <th></th>\n",
       "      <th>App</th>\n",
       "      <th>Category</th>\n",
       "      <th>Rating</th>\n",
       "      <th>Reviews</th>\n",
       "      <th>Size</th>\n",
       "      <th>Installs</th>\n",
       "      <th>Type</th>\n",
       "      <th>Price</th>\n",
       "      <th>Content Rating</th>\n",
       "      <th>Genres</th>\n",
       "      <th>Last Updated</th>\n",
       "      <th>Current Ver</th>\n",
       "      <th>Android Ver</th>\n",
       "    </tr>\n",
       "  </thead>\n",
       "  <tbody>\n",
       "    <tr>\n",
       "      <th>0</th>\n",
       "      <td>Photo Editor &amp; Candy Camera &amp; Grid &amp; ScrapBook</td>\n",
       "      <td>ART_AND_DESIGN</td>\n",
       "      <td>4.1</td>\n",
       "      <td>159</td>\n",
       "      <td>19M</td>\n",
       "      <td>10,000+</td>\n",
       "      <td>Free</td>\n",
       "      <td>0</td>\n",
       "      <td>Everyone</td>\n",
       "      <td>Art &amp; Design</td>\n",
       "      <td>January 7, 2018</td>\n",
       "      <td>1.0.0</td>\n",
       "      <td>4.0.3 and up</td>\n",
       "    </tr>\n",
       "    <tr>\n",
       "      <th>1</th>\n",
       "      <td>Coloring book moana</td>\n",
       "      <td>ART_AND_DESIGN</td>\n",
       "      <td>3.9</td>\n",
       "      <td>967</td>\n",
       "      <td>14M</td>\n",
       "      <td>500,000+</td>\n",
       "      <td>Free</td>\n",
       "      <td>0</td>\n",
       "      <td>Everyone</td>\n",
       "      <td>Art &amp; Design;Pretend Play</td>\n",
       "      <td>January 15, 2018</td>\n",
       "      <td>2.0.0</td>\n",
       "      <td>4.0.3 and up</td>\n",
       "    </tr>\n",
       "    <tr>\n",
       "      <th>2</th>\n",
       "      <td>U Launcher Lite – FREE Live Cool Themes, Hide ...</td>\n",
       "      <td>ART_AND_DESIGN</td>\n",
       "      <td>4.7</td>\n",
       "      <td>87510</td>\n",
       "      <td>8.7M</td>\n",
       "      <td>5,000,000+</td>\n",
       "      <td>Free</td>\n",
       "      <td>0</td>\n",
       "      <td>Everyone</td>\n",
       "      <td>Art &amp; Design</td>\n",
       "      <td>August 1, 2018</td>\n",
       "      <td>1.2.4</td>\n",
       "      <td>4.0.3 and up</td>\n",
       "    </tr>\n",
       "    <tr>\n",
       "      <th>3</th>\n",
       "      <td>Sketch - Draw &amp; Paint</td>\n",
       "      <td>ART_AND_DESIGN</td>\n",
       "      <td>4.5</td>\n",
       "      <td>215644</td>\n",
       "      <td>25M</td>\n",
       "      <td>50,000,000+</td>\n",
       "      <td>Free</td>\n",
       "      <td>0</td>\n",
       "      <td>Teen</td>\n",
       "      <td>Art &amp; Design</td>\n",
       "      <td>June 8, 2018</td>\n",
       "      <td>Varies with device</td>\n",
       "      <td>4.2 and up</td>\n",
       "    </tr>\n",
       "    <tr>\n",
       "      <th>4</th>\n",
       "      <td>Pixel Draw - Number Art Coloring Book</td>\n",
       "      <td>ART_AND_DESIGN</td>\n",
       "      <td>4.3</td>\n",
       "      <td>967</td>\n",
       "      <td>2.8M</td>\n",
       "      <td>100,000+</td>\n",
       "      <td>Free</td>\n",
       "      <td>0</td>\n",
       "      <td>Everyone</td>\n",
       "      <td>Art &amp; Design;Creativity</td>\n",
       "      <td>June 20, 2018</td>\n",
       "      <td>1.1</td>\n",
       "      <td>4.4 and up</td>\n",
       "    </tr>\n",
       "  </tbody>\n",
       "</table>\n",
       "</div>"
      ],
      "text/plain": [
       "                                                 App        Category  Rating  \\\n",
       "0     Photo Editor & Candy Camera & Grid & ScrapBook  ART_AND_DESIGN     4.1   \n",
       "1                                Coloring book moana  ART_AND_DESIGN     3.9   \n",
       "2  U Launcher Lite – FREE Live Cool Themes, Hide ...  ART_AND_DESIGN     4.7   \n",
       "3                              Sketch - Draw & Paint  ART_AND_DESIGN     4.5   \n",
       "4              Pixel Draw - Number Art Coloring Book  ART_AND_DESIGN     4.3   \n",
       "\n",
       "   Reviews  Size     Installs  Type Price Content Rating  \\\n",
       "0      159   19M      10,000+  Free     0       Everyone   \n",
       "1      967   14M     500,000+  Free     0       Everyone   \n",
       "2    87510  8.7M   5,000,000+  Free     0       Everyone   \n",
       "3   215644   25M  50,000,000+  Free     0           Teen   \n",
       "4      967  2.8M     100,000+  Free     0       Everyone   \n",
       "\n",
       "                      Genres      Last Updated         Current Ver  \\\n",
       "0               Art & Design   January 7, 2018               1.0.0   \n",
       "1  Art & Design;Pretend Play  January 15, 2018               2.0.0   \n",
       "2               Art & Design    August 1, 2018               1.2.4   \n",
       "3               Art & Design      June 8, 2018  Varies with device   \n",
       "4    Art & Design;Creativity     June 20, 2018                 1.1   \n",
       "\n",
       "    Android Ver  \n",
       "0  4.0.3 and up  \n",
       "1  4.0.3 and up  \n",
       "2  4.0.3 and up  \n",
       "3    4.2 and up  \n",
       "4    4.4 and up  "
      ]
     },
     "execution_count": 21,
     "metadata": {},
     "output_type": "execute_result"
    }
   ],
   "source": [
    "df.head()"
   ]
  },
  {
   "cell_type": "markdown",
   "id": "b402830b-5443-4284-9ee2-710d6cdf8500",
   "metadata": {},
   "source": [
    "### Fixing NaN values and outlier handling:"
   ]
  },
  {
   "cell_type": "code",
   "execution_count": 23,
   "id": "523bfbf4-7db8-48d5-ae40-c90bca19c726",
   "metadata": {},
   "outputs": [
    {
     "data": {
      "text/plain": [
       "App                  0\n",
       "Category             1\n",
       "Rating            1458\n",
       "Reviews              0\n",
       "Size                 0\n",
       "Installs             0\n",
       "Type                 1\n",
       "Price                0\n",
       "Content Rating       0\n",
       "Genres               1\n",
       "Last Updated         0\n",
       "Current Ver          8\n",
       "Android Ver          2\n",
       "dtype: int64"
      ]
     },
     "execution_count": 23,
     "metadata": {},
     "output_type": "execute_result"
    }
   ],
   "source": [
    "df.isnull().sum()"
   ]
  },
  {
   "cell_type": "code",
   "execution_count": 24,
   "id": "23860056-3bfc-4837-84a0-b988f79e41ef",
   "metadata": {},
   "outputs": [],
   "source": [
    "#fix missing values in column \"Rating\".\n",
    "df_clean=df.dropna()\n",
    "df.fillna({'Rating':df_clean['Rating'].median()},inplace=True)"
   ]
  },
  {
   "cell_type": "code",
   "execution_count": 25,
   "id": "99553ce9-f0bb-487b-95a0-76b2f9087b25",
   "metadata": {},
   "outputs": [
    {
     "data": {
      "text/plain": [
       "<Axes: ylabel='Rating'>"
      ]
     },
     "execution_count": 25,
     "metadata": {},
     "output_type": "execute_result"
    },
    {
     "data": {
      "image/png": "[encoded data removed]",
      "text/plain": [
       "<Figure size 640x480 with 1 Axes>"
      ]
     },
     "metadata": {},
     "output_type": "display_data"
    }
   ],
   "source": [
    "#outlier detection for column 'Rating'\n",
    "sns.boxplot(df['Rating'])"
   ]
  },
  {
   "cell_type": "code",
   "execution_count": 26,
   "id": "cf7dc505-343d-45d4-9e30-15dda27e2e83",
   "metadata": {},
   "outputs": [],
   "source": [
    "#dropping ratings that are less than the lower and upper bound.\n",
    "#mostly lower bound.\n",
    "#as most of the data is highly rated apps.\n",
    "Q1=df['Rating'].quantile(0.25)\n",
    "Q3=df['Rating'].quantile(0.75)\n",
    "IQR=Q3-Q1\n",
    "lower_bound=Q1-1.5*IQR\n",
    "upper_bound=Q3+1.5*IQR\n",
    "df=df[(df['Rating']>=lower_bound) & (df['Rating']<=upper_bound)]"
   ]
  },
  {
   "cell_type": "code",
   "execution_count": 27,
   "id": "c819c934-b3a5-4b10-9bf9-9fc566658f60",
   "metadata": {},
   "outputs": [
    {
     "data": {
      "text/plain": [
       "(9147, 13)"
      ]
     },
     "execution_count": 27,
     "metadata": {},
     "output_type": "execute_result"
    }
   ],
   "source": [
    "#new shape of data after outlier handling.\n",
    "df.shape"
   ]
  },
  {
   "cell_type": "code",
   "execution_count": 28,
   "id": "be384a50-7275-4444-abba-e2b72a208584",
   "metadata": {},
   "outputs": [
    {
     "data": {
      "text/plain": [
       "<Axes: ylabel='Rating'>"
      ]
     },
     "execution_count": 28,
     "metadata": {},
     "output_type": "execute_result"
    },
    {
     "data": {
      "image/png": "[encoded data removed]",
      "text/plain": [
       "<Figure size 640x480 with 1 Axes>"
      ]
     },
     "metadata": {},
     "output_type": "display_data"
    }
   ],
   "source": [
    "#boxplot after outlier handling.\n",
    "sns.boxplot(df['Rating'])"
   ]
  },
  {
   "cell_type": "code",
   "execution_count": 29,
   "id": "0ae1fd34-f651-4b7e-9efd-b06a354728ce",
   "metadata": {},
   "outputs": [],
   "source": [
    "#While there is still more outliers in the dataset, it is infactual to change these values as it will give us wrong data.\n",
    "#also analytical questions require Reviews and Price to be factual and with-scale values.\n",
    "#but since Rating has garbage values it's okay to drop them."
   ]
  },
  {
   "cell_type": "code",
   "execution_count": 30,
   "id": "cc5103f0-6199-433d-a443-c43e89090527",
   "metadata": {},
   "outputs": [
    {
     "data": {
      "text/html": [
       "<div>\n",
       "<style scoped>\n",
       "    .dataframe tbody tr th:only-of-type {\n",
       "        vertical-align: middle;\n",
       "    }\n",
       "\n",
       "    .dataframe tbody tr th {\n",
       "        vertical-align: top;\n",
       "    }\n",
       "\n",
       "    .dataframe thead th {\n",
       "        text-align: right;\n",
       "    }\n",
       "</style>\n",
       "<table border=\"1\" class=\"dataframe\">\n",
       "  <thead>\n",
       "    <tr style=\"text-align: right;\">\n",
       "      <th></th>\n",
       "      <th>Rating</th>\n",
       "      <th>Reviews</th>\n",
       "    </tr>\n",
       "  </thead>\n",
       "  <tbody>\n",
       "    <tr>\n",
       "      <th>count</th>\n",
       "      <td>9147.000000</td>\n",
       "      <td>9.147000e+03</td>\n",
       "    </tr>\n",
       "    <tr>\n",
       "      <th>mean</th>\n",
       "      <td>4.274002</td>\n",
       "      <td>2.280545e+05</td>\n",
       "    </tr>\n",
       "    <tr>\n",
       "      <th>std</th>\n",
       "      <td>0.339752</td>\n",
       "      <td>1.880516e+06</td>\n",
       "    </tr>\n",
       "    <tr>\n",
       "      <th>min</th>\n",
       "      <td>3.300000</td>\n",
       "      <td>0.000000e+00</td>\n",
       "    </tr>\n",
       "    <tr>\n",
       "      <th>25%</th>\n",
       "      <td>4.100000</td>\n",
       "      <td>2.600000e+01</td>\n",
       "    </tr>\n",
       "    <tr>\n",
       "      <th>50%</th>\n",
       "      <td>4.300000</td>\n",
       "      <td>1.320000e+03</td>\n",
       "    </tr>\n",
       "    <tr>\n",
       "      <th>75%</th>\n",
       "      <td>4.500000</td>\n",
       "      <td>3.323250e+04</td>\n",
       "    </tr>\n",
       "    <tr>\n",
       "      <th>max</th>\n",
       "      <td>5.000000</td>\n",
       "      <td>7.815831e+07</td>\n",
       "    </tr>\n",
       "  </tbody>\n",
       "</table>\n",
       "</div>"
      ],
      "text/plain": [
       "            Rating       Reviews\n",
       "count  9147.000000  9.147000e+03\n",
       "mean      4.274002  2.280545e+05\n",
       "std       0.339752  1.880516e+06\n",
       "min       3.300000  0.000000e+00\n",
       "25%       4.100000  2.600000e+01\n",
       "50%       4.300000  1.320000e+03\n",
       "75%       4.500000  3.323250e+04\n",
       "max       5.000000  7.815831e+07"
      ]
     },
     "execution_count": 30,
     "metadata": {},
     "output_type": "execute_result"
    }
   ],
   "source": [
    "df.describe()"
   ]
  },
  {
   "cell_type": "code",
   "execution_count": 31,
   "id": "5ebf61b9-56e5-4bcf-a260-c7f566d6589c",
   "metadata": {},
   "outputs": [
    {
     "data": {
      "text/plain": [
       "App               0\n",
       "Category          0\n",
       "Rating            0\n",
       "Reviews           0\n",
       "Size              0\n",
       "Installs          0\n",
       "Type              1\n",
       "Price             0\n",
       "Content Rating    0\n",
       "Genres            0\n",
       "Last Updated      0\n",
       "Current Ver       7\n",
       "Android Ver       2\n",
       "dtype: int64"
      ]
     },
     "execution_count": 31,
     "metadata": {},
     "output_type": "execute_result"
    }
   ],
   "source": [
    "df.isnull().sum()"
   ]
  },
  {
   "cell_type": "code",
   "execution_count": 32,
   "id": "3cc9abd0-b508-4b12-a8d9-c0f043fe989e",
   "metadata": {},
   "outputs": [
    {
     "data": {
      "text/plain": [
       "'1.0'"
      ]
     },
     "execution_count": 32,
     "metadata": {},
     "output_type": "execute_result"
    }
   ],
   "source": [
    "#setting mode of clean Current Ver column.\n",
    "curr_clean=df[df['Current Ver']!='Varies with device']\n",
    "modeCV=curr_clean['Current Ver'].mode()[0]\n",
    "modeCV"
   ]
  },
  {
   "cell_type": "code",
   "execution_count": 33,
   "id": "fbdd197b-2ccd-4597-b539-89129a12e9da",
   "metadata": {},
   "outputs": [],
   "source": [
    "#filling na values in Current Ver.\n",
    "df.fillna({'Current Ver':modeCV},inplace=True)"
   ]
  },
  {
   "cell_type": "code",
   "execution_count": 34,
   "id": "3882b99b-92fc-4c21-bd7b-d4618a01cac1",
   "metadata": {},
   "outputs": [
    {
     "data": {
      "text/plain": [
       "'4.1 and up'"
      ]
     },
     "execution_count": 34,
     "metadata": {},
     "output_type": "execute_result"
    }
   ],
   "source": [
    "#setting mode of clean Android Ver column.\n",
    "modeAV=df_clean['Android Ver'].mode()[0]\n",
    "modeAV"
   ]
  },
  {
   "cell_type": "code",
   "execution_count": 35,
   "id": "5dc9aa93-ee5d-472e-aa49-3634bc052f0c",
   "metadata": {},
   "outputs": [],
   "source": [
    "#filling na values in Android Ver.\n",
    "df.fillna({'Android Ver':modeAV},inplace=True)"
   ]
  },
  {
   "cell_type": "code",
   "execution_count": 36,
   "id": "9423c950-0544-40d4-bb21-e8ebf586f177",
   "metadata": {},
   "outputs": [],
   "source": [
    "#filling na values in Type.\n",
    "df.fillna({'Type':df['Type'].mode()[0]}, inplace=True)"
   ]
  },
  {
   "cell_type": "code",
   "execution_count": 37,
   "id": "cbb61943-f49d-4e05-a5ab-8cb1ca827be0",
   "metadata": {},
   "outputs": [
    {
     "data": {
      "text/plain": [
       "App               0\n",
       "Category          0\n",
       "Rating            0\n",
       "Reviews           0\n",
       "Size              0\n",
       "Installs          0\n",
       "Type              0\n",
       "Price             0\n",
       "Content Rating    0\n",
       "Genres            0\n",
       "Last Updated      0\n",
       "Current Ver       0\n",
       "Android Ver       0\n",
       "dtype: int64"
      ]
     },
     "execution_count": 37,
     "metadata": {},
     "output_type": "execute_result"
    }
   ],
   "source": [
    "df.isnull().sum()"
   ]
  },
  {
   "cell_type": "markdown",
   "id": "6f14e3e5-2e08-4c75-b4bf-a5acb5ba79a3",
   "metadata": {},
   "source": [
    "### Cleaning columns and feature engineering:"
   ]
  },
  {
   "cell_type": "code",
   "execution_count": 39,
   "id": "17e2e12a-bc9d-4551-85c1-33dcd04fb114",
   "metadata": {
    "scrolled": true
   },
   "outputs": [
    {
     "data": {
      "text/plain": [
       "array(['Varies with device'], dtype=object)"
      ]
     },
     "execution_count": 39,
     "metadata": {},
     "output_type": "execute_result"
    }
   ],
   "source": [
    "#check for values in column \"Size\" that don't end with M or k.\n",
    "dff_size=df[~df['Size'].str.endswith(('M','k'))]\n",
    "dff_size['Size'].unique()"
   ]
  },
  {
   "cell_type": "code",
   "execution_count": 40,
   "id": "547018ee-acd5-4285-8615-8d26ca2029f4",
   "metadata": {},
   "outputs": [],
   "source": [
    "#new column with values from \"Size\" as numeric in kilobytes.\n",
    "df['Size (Kb)']=df['Size'].apply(lambda x: float(x[:-1])*1024 if x[-1]=='M' else(float(x[:-1]) if x[-1]=='k' else(x)) )"
   ]
  },
  {
   "cell_type": "code",
   "execution_count": 41,
   "id": "084b778e-d95f-4b5f-b6c2-363c46c45949",
   "metadata": {},
   "outputs": [
    {
     "data": {
      "text/html": [
       "<div>\n",
       "<style scoped>\n",
       "    .dataframe tbody tr th:only-of-type {\n",
       "        vertical-align: middle;\n",
       "    }\n",
       "\n",
       "    .dataframe tbody tr th {\n",
       "        vertical-align: top;\n",
       "    }\n",
       "\n",
       "    .dataframe thead th {\n",
       "        text-align: right;\n",
       "    }\n",
       "</style>\n",
       "<table border=\"1\" class=\"dataframe\">\n",
       "  <thead>\n",
       "    <tr style=\"text-align: right;\">\n",
       "      <th></th>\n",
       "      <th>App</th>\n",
       "      <th>Category</th>\n",
       "      <th>Rating</th>\n",
       "      <th>Reviews</th>\n",
       "      <th>Size</th>\n",
       "      <th>Installs</th>\n",
       "      <th>Type</th>\n",
       "      <th>Price</th>\n",
       "      <th>Content Rating</th>\n",
       "      <th>Genres</th>\n",
       "      <th>Last Updated</th>\n",
       "      <th>Current Ver</th>\n",
       "      <th>Android Ver</th>\n",
       "      <th>Size (Kb)</th>\n",
       "    </tr>\n",
       "  </thead>\n",
       "  <tbody>\n",
       "    <tr>\n",
       "      <th>9634</th>\n",
       "      <td>Sya9a Maroc - FR</td>\n",
       "      <td>FAMILY</td>\n",
       "      <td>4.5</td>\n",
       "      <td>38</td>\n",
       "      <td>53M</td>\n",
       "      <td>5,000+</td>\n",
       "      <td>Free</td>\n",
       "      <td>0</td>\n",
       "      <td>Everyone</td>\n",
       "      <td>Education</td>\n",
       "      <td>July 25, 2017</td>\n",
       "      <td>1.48</td>\n",
       "      <td>4.1 and up</td>\n",
       "      <td>54272.0</td>\n",
       "    </tr>\n",
       "    <tr>\n",
       "      <th>9635</th>\n",
       "      <td>Fr. Mike Schmitz Audio Teachings</td>\n",
       "      <td>FAMILY</td>\n",
       "      <td>5.0</td>\n",
       "      <td>4</td>\n",
       "      <td>3.6M</td>\n",
       "      <td>100+</td>\n",
       "      <td>Free</td>\n",
       "      <td>0</td>\n",
       "      <td>Everyone</td>\n",
       "      <td>Education</td>\n",
       "      <td>July 6, 2018</td>\n",
       "      <td>1.0</td>\n",
       "      <td>4.1 and up</td>\n",
       "      <td>3686.4</td>\n",
       "    </tr>\n",
       "    <tr>\n",
       "      <th>9636</th>\n",
       "      <td>Parkinson Exercices FR</td>\n",
       "      <td>MEDICAL</td>\n",
       "      <td>4.3</td>\n",
       "      <td>3</td>\n",
       "      <td>9.5M</td>\n",
       "      <td>1,000+</td>\n",
       "      <td>Free</td>\n",
       "      <td>0</td>\n",
       "      <td>Everyone</td>\n",
       "      <td>Medical</td>\n",
       "      <td>January 20, 2017</td>\n",
       "      <td>1.0</td>\n",
       "      <td>2.2 and up</td>\n",
       "      <td>9728.0</td>\n",
       "    </tr>\n",
       "    <tr>\n",
       "      <th>9637</th>\n",
       "      <td>The SCP Foundation DB fr nn5n</td>\n",
       "      <td>BOOKS_AND_REFERENCE</td>\n",
       "      <td>4.5</td>\n",
       "      <td>114</td>\n",
       "      <td>Varies with device</td>\n",
       "      <td>1,000+</td>\n",
       "      <td>Free</td>\n",
       "      <td>0</td>\n",
       "      <td>Mature 17+</td>\n",
       "      <td>Books &amp; Reference</td>\n",
       "      <td>January 19, 2015</td>\n",
       "      <td>Varies with device</td>\n",
       "      <td>Varies with device</td>\n",
       "      <td>Varies with device</td>\n",
       "    </tr>\n",
       "    <tr>\n",
       "      <th>9638</th>\n",
       "      <td>iHoroscope - 2018 Daily Horoscope &amp; Astrology</td>\n",
       "      <td>LIFESTYLE</td>\n",
       "      <td>4.5</td>\n",
       "      <td>398307</td>\n",
       "      <td>19M</td>\n",
       "      <td>10,000,000+</td>\n",
       "      <td>Free</td>\n",
       "      <td>0</td>\n",
       "      <td>Everyone</td>\n",
       "      <td>Lifestyle</td>\n",
       "      <td>July 25, 2018</td>\n",
       "      <td>Varies with device</td>\n",
       "      <td>Varies with device</td>\n",
       "      <td>19456.0</td>\n",
       "    </tr>\n",
       "  </tbody>\n",
       "</table>\n",
       "</div>"
      ],
      "text/plain": [
       "                                                App             Category  \\\n",
       "9634                               Sya9a Maroc - FR               FAMILY   \n",
       "9635               Fr. Mike Schmitz Audio Teachings               FAMILY   \n",
       "9636                         Parkinson Exercices FR              MEDICAL   \n",
       "9637                  The SCP Foundation DB fr nn5n  BOOKS_AND_REFERENCE   \n",
       "9638  iHoroscope - 2018 Daily Horoscope & Astrology            LIFESTYLE   \n",
       "\n",
       "      Rating  Reviews                Size     Installs  Type Price  \\\n",
       "9634     4.5       38                 53M       5,000+  Free     0   \n",
       "9635     5.0        4                3.6M         100+  Free     0   \n",
       "9636     4.3        3                9.5M       1,000+  Free     0   \n",
       "9637     4.5      114  Varies with device       1,000+  Free     0   \n",
       "9638     4.5   398307                 19M  10,000,000+  Free     0   \n",
       "\n",
       "     Content Rating             Genres      Last Updated         Current Ver  \\\n",
       "9634       Everyone          Education     July 25, 2017                1.48   \n",
       "9635       Everyone          Education      July 6, 2018                 1.0   \n",
       "9636       Everyone            Medical  January 20, 2017                 1.0   \n",
       "9637     Mature 17+  Books & Reference  January 19, 2015  Varies with device   \n",
       "9638       Everyone          Lifestyle     July 25, 2018  Varies with device   \n",
       "\n",
       "             Android Ver           Size (Kb)  \n",
       "9634          4.1 and up             54272.0  \n",
       "9635          4.1 and up              3686.4  \n",
       "9636          2.2 and up              9728.0  \n",
       "9637  Varies with device  Varies with device  \n",
       "9638  Varies with device             19456.0  "
      ]
     },
     "execution_count": 41,
     "metadata": {},
     "output_type": "execute_result"
    }
   ],
   "source": [
    "df.tail()"
   ]
  },
  {
   "cell_type": "code",
   "execution_count": 42,
   "id": "4d51e5f0-f7dc-4f24-8347-262b967d532a",
   "metadata": {
    "scrolled": true
   },
   "outputs": [],
   "source": [
    "#find average in data.\n",
    "df_clean=df[df['Size (Kb)']!='Varies with device']\n",
    "meanS=df_clean['Size (Kb)'].mean()"
   ]
  },
  {
   "cell_type": "code",
   "execution_count": 43,
   "id": "6b878e6e-efde-4057-b9cb-561fdd2fa237",
   "metadata": {},
   "outputs": [],
   "source": [
    "#removing non numeric values.\n",
    "df.loc[df['Size (Kb)']=='Varies with device','Size (Kb)']=meanS"
   ]
  },
  {
   "cell_type": "code",
   "execution_count": 44,
   "id": "82da8221-d50b-469f-8366-4721d8aabfc6",
   "metadata": {},
   "outputs": [],
   "source": [
    "#recognizing Size (Kb) as float column.\n",
    "df['Size (Kb)']=df['Size (Kb)'].astype(float)"
   ]
  },
  {
   "cell_type": "code",
   "execution_count": 45,
   "id": "6fd3bcf8-d635-49b9-92d1-23780a1f7be2",
   "metadata": {},
   "outputs": [
    {
     "data": {
      "text/html": [
       "<div>\n",
       "<style scoped>\n",
       "    .dataframe tbody tr th:only-of-type {\n",
       "        vertical-align: middle;\n",
       "    }\n",
       "\n",
       "    .dataframe tbody tr th {\n",
       "        vertical-align: top;\n",
       "    }\n",
       "\n",
       "    .dataframe thead th {\n",
       "        text-align: right;\n",
       "    }\n",
       "</style>\n",
       "<table border=\"1\" class=\"dataframe\">\n",
       "  <thead>\n",
       "    <tr style=\"text-align: right;\">\n",
       "      <th></th>\n",
       "      <th>App</th>\n",
       "      <th>Category</th>\n",
       "      <th>Rating</th>\n",
       "      <th>Reviews</th>\n",
       "      <th>Size</th>\n",
       "      <th>Installs</th>\n",
       "      <th>Type</th>\n",
       "      <th>Price</th>\n",
       "      <th>Content Rating</th>\n",
       "      <th>Genres</th>\n",
       "      <th>Last Updated</th>\n",
       "      <th>Current Ver</th>\n",
       "      <th>Android Ver</th>\n",
       "      <th>Size (Kb)</th>\n",
       "    </tr>\n",
       "  </thead>\n",
       "  <tbody>\n",
       "    <tr>\n",
       "      <th>9634</th>\n",
       "      <td>Sya9a Maroc - FR</td>\n",
       "      <td>FAMILY</td>\n",
       "      <td>4.5</td>\n",
       "      <td>38</td>\n",
       "      <td>53M</td>\n",
       "      <td>5,000+</td>\n",
       "      <td>Free</td>\n",
       "      <td>0</td>\n",
       "      <td>Everyone</td>\n",
       "      <td>Education</td>\n",
       "      <td>July 25, 2017</td>\n",
       "      <td>1.48</td>\n",
       "      <td>4.1 and up</td>\n",
       "      <td>54272.000000</td>\n",
       "    </tr>\n",
       "    <tr>\n",
       "      <th>9635</th>\n",
       "      <td>Fr. Mike Schmitz Audio Teachings</td>\n",
       "      <td>FAMILY</td>\n",
       "      <td>5.0</td>\n",
       "      <td>4</td>\n",
       "      <td>3.6M</td>\n",
       "      <td>100+</td>\n",
       "      <td>Free</td>\n",
       "      <td>0</td>\n",
       "      <td>Everyone</td>\n",
       "      <td>Education</td>\n",
       "      <td>July 6, 2018</td>\n",
       "      <td>1.0</td>\n",
       "      <td>4.1 and up</td>\n",
       "      <td>3686.400000</td>\n",
       "    </tr>\n",
       "    <tr>\n",
       "      <th>9636</th>\n",
       "      <td>Parkinson Exercices FR</td>\n",
       "      <td>MEDICAL</td>\n",
       "      <td>4.3</td>\n",
       "      <td>3</td>\n",
       "      <td>9.5M</td>\n",
       "      <td>1,000+</td>\n",
       "      <td>Free</td>\n",
       "      <td>0</td>\n",
       "      <td>Everyone</td>\n",
       "      <td>Medical</td>\n",
       "      <td>January 20, 2017</td>\n",
       "      <td>1.0</td>\n",
       "      <td>2.2 and up</td>\n",
       "      <td>9728.000000</td>\n",
       "    </tr>\n",
       "    <tr>\n",
       "      <th>9637</th>\n",
       "      <td>The SCP Foundation DB fr nn5n</td>\n",
       "      <td>BOOKS_AND_REFERENCE</td>\n",
       "      <td>4.5</td>\n",
       "      <td>114</td>\n",
       "      <td>Varies with device</td>\n",
       "      <td>1,000+</td>\n",
       "      <td>Free</td>\n",
       "      <td>0</td>\n",
       "      <td>Mature 17+</td>\n",
       "      <td>Books &amp; Reference</td>\n",
       "      <td>January 19, 2015</td>\n",
       "      <td>Varies with device</td>\n",
       "      <td>Varies with device</td>\n",
       "      <td>21189.138428</td>\n",
       "    </tr>\n",
       "    <tr>\n",
       "      <th>9638</th>\n",
       "      <td>iHoroscope - 2018 Daily Horoscope &amp; Astrology</td>\n",
       "      <td>LIFESTYLE</td>\n",
       "      <td>4.5</td>\n",
       "      <td>398307</td>\n",
       "      <td>19M</td>\n",
       "      <td>10,000,000+</td>\n",
       "      <td>Free</td>\n",
       "      <td>0</td>\n",
       "      <td>Everyone</td>\n",
       "      <td>Lifestyle</td>\n",
       "      <td>July 25, 2018</td>\n",
       "      <td>Varies with device</td>\n",
       "      <td>Varies with device</td>\n",
       "      <td>19456.000000</td>\n",
       "    </tr>\n",
       "  </tbody>\n",
       "</table>\n",
       "</div>"
      ],
      "text/plain": [
       "                                                App             Category  \\\n",
       "9634                               Sya9a Maroc - FR               FAMILY   \n",
       "9635               Fr. Mike Schmitz Audio Teachings               FAMILY   \n",
       "9636                         Parkinson Exercices FR              MEDICAL   \n",
       "9637                  The SCP Foundation DB fr nn5n  BOOKS_AND_REFERENCE   \n",
       "9638  iHoroscope - 2018 Daily Horoscope & Astrology            LIFESTYLE   \n",
       "\n",
       "      Rating  Reviews                Size     Installs  Type Price  \\\n",
       "9634     4.5       38                 53M       5,000+  Free     0   \n",
       "9635     5.0        4                3.6M         100+  Free     0   \n",
       "9636     4.3        3                9.5M       1,000+  Free     0   \n",
       "9637     4.5      114  Varies with device       1,000+  Free     0   \n",
       "9638     4.5   398307                 19M  10,000,000+  Free     0   \n",
       "\n",
       "     Content Rating             Genres      Last Updated         Current Ver  \\\n",
       "9634       Everyone          Education     July 25, 2017                1.48   \n",
       "9635       Everyone          Education      July 6, 2018                 1.0   \n",
       "9636       Everyone            Medical  January 20, 2017                 1.0   \n",
       "9637     Mature 17+  Books & Reference  January 19, 2015  Varies with device   \n",
       "9638       Everyone          Lifestyle     July 25, 2018  Varies with device   \n",
       "\n",
       "             Android Ver     Size (Kb)  \n",
       "9634          4.1 and up  54272.000000  \n",
       "9635          4.1 and up   3686.400000  \n",
       "9636          2.2 and up   9728.000000  \n",
       "9637  Varies with device  21189.138428  \n",
       "9638  Varies with device  19456.000000  "
      ]
     },
     "execution_count": 45,
     "metadata": {},
     "output_type": "execute_result"
    }
   ],
   "source": [
    "df.tail()"
   ]
  },
  {
   "cell_type": "code",
   "execution_count": 46,
   "id": "c626f20b-3bad-476e-acee-6813a49e5795",
   "metadata": {},
   "outputs": [
    {
     "data": {
      "text/html": [
       "<div>\n",
       "<style scoped>\n",
       "    .dataframe tbody tr th:only-of-type {\n",
       "        vertical-align: middle;\n",
       "    }\n",
       "\n",
       "    .dataframe tbody tr th {\n",
       "        vertical-align: top;\n",
       "    }\n",
       "\n",
       "    .dataframe thead th {\n",
       "        text-align: right;\n",
       "    }\n",
       "</style>\n",
       "<table border=\"1\" class=\"dataframe\">\n",
       "  <thead>\n",
       "    <tr style=\"text-align: right;\">\n",
       "      <th></th>\n",
       "      <th>App</th>\n",
       "      <th>Category</th>\n",
       "      <th>Rating</th>\n",
       "      <th>Reviews</th>\n",
       "      <th>Size</th>\n",
       "      <th>Installs</th>\n",
       "      <th>Type</th>\n",
       "      <th>Price</th>\n",
       "      <th>Content Rating</th>\n",
       "      <th>Genres</th>\n",
       "      <th>Last Updated</th>\n",
       "      <th>Current Ver</th>\n",
       "      <th>Android Ver</th>\n",
       "      <th>Size (Kb)</th>\n",
       "    </tr>\n",
       "  </thead>\n",
       "  <tbody>\n",
       "  </tbody>\n",
       "</table>\n",
       "</div>"
      ],
      "text/plain": [
       "Empty DataFrame\n",
       "Columns: [App, Category, Rating, Reviews, Size, Installs, Type, Price, Content Rating, Genres, Last Updated, Current Ver, Android Ver, Size (Kb)]\n",
       "Index: []"
      ]
     },
     "execution_count": 46,
     "metadata": {},
     "output_type": "execute_result"
    }
   ],
   "source": [
    "#check for garbage values in column price.\n",
    "df[~df['Price'].str.startswith(('$','0'))]"
   ]
  },
  {
   "cell_type": "code",
   "execution_count": 47,
   "id": "67bdae52-aec2-4057-b873-3388d67b2705",
   "metadata": {},
   "outputs": [],
   "source": [
    "#column \"Price in dollars\" which is the price column in numeric value.\n",
    "df['Price in dollars']=df['Price'].apply(lambda x: x[1:] if x[0]=='$' else x)"
   ]
  },
  {
   "cell_type": "code",
   "execution_count": 48,
   "id": "6a4bf812-fe69-4051-9ce6-58623ee34e67",
   "metadata": {},
   "outputs": [],
   "source": [
    "#recognize the \"Price in dollars\" column as float value column.\n",
    "df['Price in dollars']=df['Price in dollars'].astype(float)"
   ]
  },
  {
   "cell_type": "code",
   "execution_count": 49,
   "id": "c2fb8682-f6cd-469e-9db9-e537358ed95b",
   "metadata": {
    "scrolled": true
   },
   "outputs": [
    {
     "name": "stdout",
     "output_type": "stream",
     "text": [
      "column App has values:['Photo Editor & Candy Camera & Grid & ScrapBook' 'Coloring book moana'\n",
      " 'U Launcher Lite – FREE Live Cool Themes, Hide Apps' ...\n",
      " 'Parkinson Exercices FR' 'The SCP Foundation DB fr nn5n'\n",
      " 'iHoroscope - 2018 Daily Horoscope & Astrology']\n",
      "\n",
      "column Category has values:['ART_AND_DESIGN' 'AUTO_AND_VEHICLES' 'BEAUTY' 'BOOKS_AND_REFERENCE'\n",
      " 'BUSINESS' 'COMICS' 'COMMUNICATION' 'DATING' 'EDUCATION' 'ENTERTAINMENT'\n",
      " 'EVENTS' 'FINANCE' 'FOOD_AND_DRINK' 'HEALTH_AND_FITNESS' 'HOUSE_AND_HOME'\n",
      " 'LIBRARIES_AND_DEMO' 'LIFESTYLE' 'GAME' 'FAMILY' 'MEDICAL' 'SOCIAL'\n",
      " 'SHOPPING' 'PHOTOGRAPHY' 'SPORTS' 'TRAVEL_AND_LOCAL' 'TOOLS'\n",
      " 'PERSONALIZATION' 'PRODUCTIVITY' 'PARENTING' 'WEATHER' 'VIDEO_PLAYERS'\n",
      " 'NEWS_AND_MAGAZINES' 'MAPS_AND_NAVIGATION']\n",
      "\n",
      "column Rating has values:[4.1 3.9 4.7 4.5 4.3 4.4 3.8 4.2 4.6 4.  4.8 4.9 3.6 3.7 3.3 3.4 3.5 5. ]\n",
      "\n",
      "column Reviews has values:[   159    967  87510 ...    603   1195 398307]\n",
      "\n",
      "column Size has values:['19M' '14M' '8.7M' '25M' '2.8M' '5.6M' '29M' '33M' '3.1M' '28M' '12M'\n",
      " '20M' '21M' '37M' '5.5M' '17M' '39M' '31M' '4.2M' '7.0M' '23M' '6.0M'\n",
      " '6.1M' '4.6M' '9.2M' '5.2M' '11M' '24M' 'Varies with device' '9.4M' '15M'\n",
      " '10M' '1.2M' '26M' '8.0M' '7.9M' '56M' '57M' '35M' '54M' '201k' '3.6M'\n",
      " '5.7M' '8.6M' '2.4M' '27M' '2.7M' '2.5M' '16M' '3.4M' '8.9M' '3.9M'\n",
      " '2.9M' '38M' '32M' '5.4M' '18M' '2.2M' '4.5M' '9.8M' '52M' '9.0M' '6.7M'\n",
      " '30M' '2.6M' '7.1M' '3.7M' '22M' '7.4M' '6.4M' '3.2M' '8.2M' '9.9M'\n",
      " '4.9M' '9.5M' '5.0M' '5.9M' '13M' '73M' '6.8M' '3.5M' '4.0M' '2.3M'\n",
      " '7.2M' '2.1M' '42M' '7.3M' '9.1M' '55M' '6.5M' '1.5M' '7.5M' '51M' '41M'\n",
      " '48M' '8.5M' '46M' '8.3M' '4.3M' '4.7M' '3.3M' '40M' '7.8M' '8.8M' '6.6M'\n",
      " '5.1M' '61M' '66M' '79k' '8.4M' '118k' '44M' '695k' '1.6M' '18k' '6.2M'\n",
      " '3.0M' '5.8M' '3.8M' '9.6M' '45M' '63M' '49M' '77M' '4.4M' '4.8M' '70M'\n",
      " '6.9M' '9.3M' '10.0M' '8.1M' '36M' '84M' '97M' '2.0M' '1.9M' '1.8M'\n",
      " '5.3M' '47M' '556k' '526k' '76M' '7.6M' '59M' '9.7M' '78M' '72M' '43M'\n",
      " '7.7M' '53M' '6.3M' '334k' '1.4M' '34M' '93M' '65M' '79M' '100M' '58M'\n",
      " '50M' '68M' '64M' '67M' '60M' '94M' '232k' '99M' '624k' '95M' '8.5k'\n",
      " '41k' '292k' '11k' '80M' '1.7M' '74M' '62M' '69M' '75M' '98M' '85M' '82M'\n",
      " '96M' '87M' '71M' '86M' '91M' '81M' '92M' '83M' '88M' '704k' '862k'\n",
      " '899k' '378k' '266k' '375k' '1.3M' '975k' '980k' '4.1M' '89M' '1.1M'\n",
      " '696k' '544k' '525k' '920k' '779k' '853k' '720k' '713k' '772k' '318k'\n",
      " '58k' '241k' '196k' '857k' '51k' '953k' '865k' '251k' '930k' '540k'\n",
      " '313k' '746k' '203k' '26k' '314k' '239k' '371k' '220k' '730k' '756k'\n",
      " '91k' '293k' '17k' '74k' '14k' '317k' '78k' '924k' '902k' '818k' '81k'\n",
      " '939k' '169k' '45k' '475k' '965k' '90M' '545k' '61k' '283k' '655k' '714k'\n",
      " '93k' '872k' '121k' '1.0M' '976k' '172k' '238k' '549k' '206k' '954k'\n",
      " '444k' '210k' '609k' '308k' '705k' '904k' '473k' '175k' '350k' '383k'\n",
      " '454k' '421k' '70k' '812k' '442k' '842k' '417k' '412k' '459k' '478k'\n",
      " '335k' '782k' '721k' '430k' '429k' '192k' '200k' '460k' '728k' '496k'\n",
      " '816k' '414k' '506k' '613k' '243k' '569k' '778k' '683k' '592k' '319k'\n",
      " '186k' '840k' '647k' '191k' '373k' '437k' '598k' '716k' '585k' '982k'\n",
      " '222k' '219k' '55k' '948k' '323k' '691k' '511k' '951k' '963k' '25k'\n",
      " '554k' '351k' '27k' '82k' '208k' '913k' '514k' '551k' '29k' '103k' '898k'\n",
      " '743k' '116k' '153k' '209k' '353k' '499k' '173k' '597k' '809k' '122k'\n",
      " '411k' '400k' '801k' '787k' '237k' '50k' '986k' '97k' '516k' '837k'\n",
      " '780k' '961k' '269k' '20k' '600k' '749k' '642k' '881k' '72k' '656k'\n",
      " '601k' '221k' '228k' '108k' '940k' '176k' '33k' '663k' '34k' '942k'\n",
      " '259k' '164k' '245k' '28k' '288k' '775k' '785k' '916k' '994k' '309k'\n",
      " '485k' '914k' '608k' '500k' '54k' '562k' '847k' '957k' '688k' '811k'\n",
      " '270k' '48k' '329k' '921k' '874k' '981k' '784k' '280k' '24k' '518k'\n",
      " '754k' '892k' '154k' '860k' '364k' '387k' '626k' '879k' '970k' '160k'\n",
      " '141k' '190k' '376k' '193k' '246k' '73k' '658k' '992k' '253k' '420k'\n",
      " '404k' '470k' '226k' '240k' '89k' '257k' '861k' '467k' '157k' '44k'\n",
      " '676k' '67k' '552k' '885k' '1020k' '582k' '619k']\n",
      "\n",
      "column Installs has values:['10,000+' '500,000+' '5,000,000+' '50,000,000+' '100,000+' '50,000+'\n",
      " '1,000,000+' '10,000,000+' '5,000+' '100,000,000+' '1,000,000,000+'\n",
      " '1,000+' '500,000,000+' '50+' '100+' '500+' '10+' '1+' '5+' '0+' '0']\n",
      "\n",
      "column Type has values:['Free' 'Paid']\n",
      "\n",
      "column Price has values:['0' '$4.99' '$3.99' '$1.49' '$2.99' '$7.99' '$5.99' '$3.49' '$1.99'\n",
      " '$6.99' '$9.99' '$7.49' '$0.99' '$9.00' '$5.49' '$10.00' '$24.99'\n",
      " '$11.99' '$79.99' '$16.99' '$14.99' '$1.00' '$29.99' '$12.99' '$2.49'\n",
      " '$10.99' '$1.50' '$19.99' '$15.99' '$33.99' '$74.99' '$39.99' '$3.95'\n",
      " '$4.49' '$1.70' '$8.99' '$2.00' '$3.88' '$25.99' '$399.99' '$17.99'\n",
      " '$400.00' '$3.02' '$1.76' '$4.84' '$4.77' '$1.61' '$2.50' '$1.59' '$6.49'\n",
      " '$1.29' '$5.00' '$13.99' '$299.99' '$37.99' '$18.99' '$19.90' '$8.49'\n",
      " '$1.75' '$14.00' '$4.85' '$46.99' '$109.99' '$154.99' '$3.08' '$2.59'\n",
      " '$4.80' '$1.96' '$19.40' '$3.90' '$15.46' '$3.04' '$4.29' '$2.60' '$3.28'\n",
      " '$4.60' '$28.99' '$2.95' '$2.90' '$1.97' '$200.00' '$89.99' '$2.56'\n",
      " '$30.99' '$3.61' '$1.26' '$1.20' '$1.04']\n",
      "\n",
      "column Content Rating has values:['Everyone' 'Teen' 'Everyone 10+' 'Mature 17+' 'Adults only 18+' 'Unrated']\n",
      "\n",
      "column Genres has values:['Art & Design' 'Art & Design;Pretend Play' 'Art & Design;Creativity'\n",
      " 'Art & Design;Action & Adventure' 'Auto & Vehicles' 'Beauty'\n",
      " 'Books & Reference' 'Business' 'Comics' 'Comics;Creativity'\n",
      " 'Communication' 'Dating' 'Education;Education' 'Education'\n",
      " 'Education;Creativity' 'Education;Music & Video'\n",
      " 'Education;Action & Adventure' 'Education;Pretend Play'\n",
      " 'Education;Brain Games' 'Entertainment' 'Entertainment;Music & Video'\n",
      " 'Entertainment;Brain Games' 'Entertainment;Creativity' 'Events' 'Finance'\n",
      " 'Food & Drink' 'Health & Fitness' 'House & Home' 'Libraries & Demo'\n",
      " 'Lifestyle' 'Lifestyle;Pretend Play' 'Adventure;Action & Adventure'\n",
      " 'Arcade' 'Casual' 'Card' 'Casual;Pretend Play' 'Action' 'Strategy'\n",
      " 'Puzzle' 'Sports' 'Music' 'Word' 'Racing' 'Casual;Creativity'\n",
      " 'Casual;Action & Adventure' 'Simulation' 'Adventure' 'Board' 'Trivia'\n",
      " 'Role Playing' 'Simulation;Education' 'Action;Action & Adventure'\n",
      " 'Casual;Brain Games' 'Simulation;Action & Adventure'\n",
      " 'Educational;Creativity' 'Puzzle;Brain Games' 'Educational;Education'\n",
      " 'Educational;Brain Games' 'Educational;Pretend Play'\n",
      " 'Entertainment;Education' 'Casual;Education' 'Music;Music & Video'\n",
      " 'Racing;Action & Adventure' 'Arcade;Pretend Play'\n",
      " 'Role Playing;Action & Adventure' 'Simulation;Pretend Play'\n",
      " 'Puzzle;Creativity' 'Sports;Action & Adventure'\n",
      " 'Educational;Action & Adventure' 'Arcade;Action & Adventure'\n",
      " 'Entertainment;Action & Adventure' 'Puzzle;Action & Adventure'\n",
      " 'Strategy;Action & Adventure' 'Music & Audio;Music & Video'\n",
      " 'Health & Fitness;Education' 'Adventure;Education' 'Board;Brain Games'\n",
      " 'Board;Action & Adventure' 'Board;Pretend Play' 'Casual;Music & Video'\n",
      " 'Role Playing;Pretend Play' 'Entertainment;Pretend Play'\n",
      " 'Video Players & Editors;Creativity' 'Card;Action & Adventure' 'Medical'\n",
      " 'Social' 'Shopping' 'Photography' 'Travel & Local'\n",
      " 'Travel & Local;Action & Adventure' 'Tools' 'Tools;Education'\n",
      " 'Personalization' 'Productivity' 'Parenting' 'Parenting;Music & Video'\n",
      " 'Parenting;Education' 'Parenting;Brain Games' 'Weather'\n",
      " 'Video Players & Editors' 'Video Players & Editors;Music & Video'\n",
      " 'News & Magazines' 'Maps & Navigation'\n",
      " 'Health & Fitness;Action & Adventure' 'Educational' 'Casino'\n",
      " 'Adventure;Brain Games' 'Trivia;Education' 'Lifestyle;Education'\n",
      " 'Books & Reference;Creativity' 'Books & Reference;Education'\n",
      " 'Puzzle;Education' 'Role Playing;Education' 'Role Playing;Brain Games'\n",
      " 'Strategy;Education' 'Racing;Pretend Play' 'Communication;Creativity'\n",
      " 'Strategy;Creativity']\n",
      "\n",
      "column Last Updated has values:['January 7, 2018' 'January 15, 2018' 'August 1, 2018' ...\n",
      " 'January 20, 2014' 'February 16, 2014' 'March 23, 2014']\n",
      "\n",
      "column Current Ver has values:['1.0.0' '2.0.0' '1.2.4' ... '1.0.612928' '0.3.4' '2.0.148.0']\n",
      "\n",
      "column Android Ver has values:['4.0.3 and up' '4.2 and up' '4.4 and up' '2.3 and up' '3.0 and up'\n",
      " '4.1 and up' '4.0 and up' '2.3.3 and up' 'Varies with device'\n",
      " '2.2 and up' '5.0 and up' '6.0 and up' '1.6 and up' '1.5 and up'\n",
      " '2.1 and up' '7.0 and up' '5.1 and up' '4.3 and up' '4.0.3 - 7.1.1'\n",
      " '2.0 and up' '3.2 and up' '4.4W and up' '7.1 and up' '7.0 - 7.1.1'\n",
      " '8.0 and up' '5.0 - 8.0' '3.1 and up' '2.0.1 and up' '4.1 - 7.1.1'\n",
      " '5.0 - 6.0' '1.0 and up' '2.2 - 7.1.1' '5.0 - 7.1.1']\n",
      "\n",
      "column Size (Kb) has values:[1.94560000e+04 1.43360000e+04 8.90880000e+03 2.56000000e+04\n",
      " 2.86720000e+03 5.73440000e+03 2.96960000e+04 3.37920000e+04\n",
      " 3.17440000e+03 2.86720000e+04 1.22880000e+04 2.04800000e+04\n",
      " 2.15040000e+04 3.78880000e+04 5.63200000e+03 1.74080000e+04\n",
      " 3.99360000e+04 3.17440000e+04 4.30080000e+03 7.16800000e+03\n",
      " 2.35520000e+04 6.14400000e+03 6.24640000e+03 4.71040000e+03\n",
      " 9.42080000e+03 5.32480000e+03 1.12640000e+04 2.45760000e+04\n",
      " 2.11891384e+04 9.62560000e+03 1.53600000e+04 1.02400000e+04\n",
      " 1.22880000e+03 2.66240000e+04 8.19200000e+03 8.08960000e+03\n",
      " 5.73440000e+04 5.83680000e+04 3.58400000e+04 5.52960000e+04\n",
      " 2.01000000e+02 3.68640000e+03 5.83680000e+03 8.80640000e+03\n",
      " 2.45760000e+03 2.76480000e+04 2.76480000e+03 2.56000000e+03\n",
      " 1.63840000e+04 3.48160000e+03 9.11360000e+03 3.99360000e+03\n",
      " 2.96960000e+03 3.89120000e+04 3.27680000e+04 5.52960000e+03\n",
      " 1.84320000e+04 2.25280000e+03 4.60800000e+03 1.00352000e+04\n",
      " 5.32480000e+04 9.21600000e+03 6.86080000e+03 3.07200000e+04\n",
      " 2.66240000e+03 7.27040000e+03 3.78880000e+03 2.25280000e+04\n",
      " 7.57760000e+03 6.55360000e+03 3.27680000e+03 8.39680000e+03\n",
      " 1.01376000e+04 5.01760000e+03 9.72800000e+03 5.12000000e+03\n",
      " 6.04160000e+03 1.33120000e+04 7.47520000e+04 6.96320000e+03\n",
      " 3.58400000e+03 4.09600000e+03 2.35520000e+03 7.37280000e+03\n",
      " 2.15040000e+03 4.30080000e+04 7.47520000e+03 9.31840000e+03\n",
      " 5.63200000e+04 6.65600000e+03 1.53600000e+03 7.68000000e+03\n",
      " 5.22240000e+04 4.19840000e+04 4.91520000e+04 8.70400000e+03\n",
      " 4.71040000e+04 8.49920000e+03 4.40320000e+03 4.81280000e+03\n",
      " 3.37920000e+03 4.09600000e+04 7.98720000e+03 9.01120000e+03\n",
      " 6.75840000e+03 5.22240000e+03 6.24640000e+04 6.75840000e+04\n",
      " 7.90000000e+01 8.60160000e+03 1.18000000e+02 4.50560000e+04\n",
      " 6.95000000e+02 1.63840000e+03 1.80000000e+01 6.34880000e+03\n",
      " 3.07200000e+03 5.93920000e+03 3.89120000e+03 9.83040000e+03\n",
      " 4.60800000e+04 6.45120000e+04 5.01760000e+04 7.88480000e+04\n",
      " 4.50560000e+03 4.91520000e+03 7.16800000e+04 7.06560000e+03\n",
      " 9.52320000e+03 8.29440000e+03 3.68640000e+04 8.60160000e+04\n",
      " 9.93280000e+04 2.04800000e+03 1.94560000e+03 1.84320000e+03\n",
      " 5.42720000e+03 4.81280000e+04 5.56000000e+02 5.26000000e+02\n",
      " 7.78240000e+04 7.78240000e+03 6.04160000e+04 9.93280000e+03\n",
      " 7.98720000e+04 7.37280000e+04 4.40320000e+04 7.88480000e+03\n",
      " 5.42720000e+04 6.45120000e+03 3.34000000e+02 1.43360000e+03\n",
      " 3.48160000e+04 9.52320000e+04 6.65600000e+04 8.08960000e+04\n",
      " 1.02400000e+05 5.93920000e+04 5.12000000e+04 6.96320000e+04\n",
      " 6.55360000e+04 6.86080000e+04 6.14400000e+04 9.62560000e+04\n",
      " 2.32000000e+02 1.01376000e+05 6.24000000e+02 9.72800000e+04\n",
      " 8.50000000e+00 4.10000000e+01 2.92000000e+02 1.10000000e+01\n",
      " 8.19200000e+04 1.74080000e+03 7.57760000e+04 6.34880000e+04\n",
      " 7.06560000e+04 7.68000000e+04 1.00352000e+05 8.70400000e+04\n",
      " 8.39680000e+04 9.83040000e+04 8.90880000e+04 7.27040000e+04\n",
      " 8.80640000e+04 9.31840000e+04 8.29440000e+04 9.42080000e+04\n",
      " 8.49920000e+04 9.01120000e+04 7.04000000e+02 8.62000000e+02\n",
      " 8.99000000e+02 3.78000000e+02 2.66000000e+02 3.75000000e+02\n",
      " 1.33120000e+03 9.75000000e+02 9.80000000e+02 4.19840000e+03\n",
      " 9.11360000e+04 1.12640000e+03 6.96000000e+02 5.44000000e+02\n",
      " 5.25000000e+02 9.20000000e+02 7.79000000e+02 8.53000000e+02\n",
      " 7.20000000e+02 7.13000000e+02 7.72000000e+02 3.18000000e+02\n",
      " 5.80000000e+01 2.41000000e+02 1.96000000e+02 8.57000000e+02\n",
      " 5.10000000e+01 9.53000000e+02 8.65000000e+02 2.51000000e+02\n",
      " 9.30000000e+02 5.40000000e+02 3.13000000e+02 7.46000000e+02\n",
      " 2.03000000e+02 2.60000000e+01 3.14000000e+02 2.39000000e+02\n",
      " 3.71000000e+02 2.20000000e+02 7.30000000e+02 7.56000000e+02\n",
      " 9.10000000e+01 2.93000000e+02 1.70000000e+01 7.40000000e+01\n",
      " 1.40000000e+01 3.17000000e+02 7.80000000e+01 9.24000000e+02\n",
      " 9.02000000e+02 8.18000000e+02 8.10000000e+01 9.39000000e+02\n",
      " 1.69000000e+02 4.50000000e+01 4.75000000e+02 9.65000000e+02\n",
      " 9.21600000e+04 5.45000000e+02 6.10000000e+01 2.83000000e+02\n",
      " 6.55000000e+02 7.14000000e+02 9.30000000e+01 8.72000000e+02\n",
      " 1.21000000e+02 1.02400000e+03 9.76000000e+02 1.72000000e+02\n",
      " 2.38000000e+02 5.49000000e+02 2.06000000e+02 9.54000000e+02\n",
      " 4.44000000e+02 2.10000000e+02 6.09000000e+02 3.08000000e+02\n",
      " 7.05000000e+02 9.04000000e+02 4.73000000e+02 1.75000000e+02\n",
      " 3.50000000e+02 3.83000000e+02 4.54000000e+02 4.21000000e+02\n",
      " 7.00000000e+01 8.12000000e+02 4.42000000e+02 8.42000000e+02\n",
      " 4.17000000e+02 4.12000000e+02 4.59000000e+02 4.78000000e+02\n",
      " 3.35000000e+02 7.82000000e+02 7.21000000e+02 4.30000000e+02\n",
      " 4.29000000e+02 1.92000000e+02 2.00000000e+02 4.60000000e+02\n",
      " 7.28000000e+02 4.96000000e+02 8.16000000e+02 4.14000000e+02\n",
      " 5.06000000e+02 6.13000000e+02 2.43000000e+02 5.69000000e+02\n",
      " 7.78000000e+02 6.83000000e+02 5.92000000e+02 3.19000000e+02\n",
      " 1.86000000e+02 8.40000000e+02 6.47000000e+02 1.91000000e+02\n",
      " 3.73000000e+02 4.37000000e+02 5.98000000e+02 7.16000000e+02\n",
      " 5.85000000e+02 9.82000000e+02 2.22000000e+02 2.19000000e+02\n",
      " 5.50000000e+01 9.48000000e+02 3.23000000e+02 6.91000000e+02\n",
      " 5.11000000e+02 9.51000000e+02 9.63000000e+02 2.50000000e+01\n",
      " 5.54000000e+02 3.51000000e+02 2.70000000e+01 8.20000000e+01\n",
      " 2.08000000e+02 9.13000000e+02 5.14000000e+02 5.51000000e+02\n",
      " 2.90000000e+01 1.03000000e+02 8.98000000e+02 7.43000000e+02\n",
      " 1.16000000e+02 1.53000000e+02 2.09000000e+02 3.53000000e+02\n",
      " 4.99000000e+02 1.73000000e+02 5.97000000e+02 8.09000000e+02\n",
      " 1.22000000e+02 4.11000000e+02 4.00000000e+02 8.01000000e+02\n",
      " 7.87000000e+02 2.37000000e+02 5.00000000e+01 9.86000000e+02\n",
      " 9.70000000e+01 5.16000000e+02 8.37000000e+02 7.80000000e+02\n",
      " 9.61000000e+02 2.69000000e+02 2.00000000e+01 6.00000000e+02\n",
      " 7.49000000e+02 6.42000000e+02 8.81000000e+02 7.20000000e+01\n",
      " 6.56000000e+02 6.01000000e+02 2.21000000e+02 2.28000000e+02\n",
      " 1.08000000e+02 9.40000000e+02 1.76000000e+02 3.30000000e+01\n",
      " 6.63000000e+02 3.40000000e+01 9.42000000e+02 2.59000000e+02\n",
      " 1.64000000e+02 2.45000000e+02 2.80000000e+01 2.88000000e+02\n",
      " 7.75000000e+02 7.85000000e+02 9.16000000e+02 9.94000000e+02\n",
      " 3.09000000e+02 4.85000000e+02 9.14000000e+02 6.08000000e+02\n",
      " 5.00000000e+02 5.40000000e+01 5.62000000e+02 8.47000000e+02\n",
      " 9.57000000e+02 6.88000000e+02 8.11000000e+02 2.70000000e+02\n",
      " 4.80000000e+01 3.29000000e+02 9.21000000e+02 8.74000000e+02\n",
      " 9.81000000e+02 7.84000000e+02 2.80000000e+02 2.40000000e+01\n",
      " 5.18000000e+02 7.54000000e+02 8.92000000e+02 1.54000000e+02\n",
      " 8.60000000e+02 3.64000000e+02 3.87000000e+02 6.26000000e+02\n",
      " 8.79000000e+02 9.70000000e+02 1.60000000e+02 1.41000000e+02\n",
      " 1.90000000e+02 3.76000000e+02 1.93000000e+02 2.46000000e+02\n",
      " 7.30000000e+01 6.58000000e+02 9.92000000e+02 2.53000000e+02\n",
      " 4.20000000e+02 4.04000000e+02 4.70000000e+02 2.26000000e+02\n",
      " 2.40000000e+02 8.90000000e+01 2.57000000e+02 8.61000000e+02\n",
      " 4.67000000e+02 1.57000000e+02 4.40000000e+01 6.76000000e+02\n",
      " 6.70000000e+01 5.52000000e+02 8.85000000e+02 1.02000000e+03\n",
      " 5.82000000e+02 6.19000000e+02]\n",
      "\n",
      "column Price in dollars has values:[  0.     4.99   3.99   1.49   2.99   7.99   5.99   3.49   1.99   6.99\n",
      "   9.99   7.49   0.99   9.     5.49  10.    24.99  11.99  79.99  16.99\n",
      "  14.99   1.    29.99  12.99   2.49  10.99   1.5   19.99  15.99  33.99\n",
      "  74.99  39.99   3.95   4.49   1.7    8.99   2.     3.88  25.99 399.99\n",
      "  17.99 400.     3.02   1.76   4.84   4.77   1.61   2.5    1.59   6.49\n",
      "   1.29   5.    13.99 299.99  37.99  18.99  19.9    8.49   1.75  14.\n",
      "   4.85  46.99 109.99 154.99   3.08   2.59   4.8    1.96  19.4    3.9\n",
      "  15.46   3.04   4.29   2.6    3.28   4.6   28.99   2.95   2.9    1.97\n",
      " 200.    89.99   2.56  30.99   3.61   1.26   1.2    1.04]\n",
      "\n"
     ]
    }
   ],
   "source": [
    "#check for unique values in each column. (extra analysis)\n",
    "for i in df.columns:\n",
    "    print(f'column {i} has values:{df[i].unique()}\\n')"
   ]
  },
  {
   "cell_type": "code",
   "execution_count": 50,
   "id": "342da438-0499-4437-9a21-1f24dd74318f",
   "metadata": {},
   "outputs": [],
   "source": [
    "#split the values in category each time _ is encountered.\n",
    "df['Category']=df['Category'].apply(lambda x: ' '.join(x.split('_')))"
   ]
  },
  {
   "cell_type": "code",
   "execution_count": 51,
   "id": "9a787158-138e-4711-b731-6bf4d7245d3e",
   "metadata": {},
   "outputs": [
    {
     "data": {
      "text/plain": [
       "0            ART AND DESIGN\n",
       "1            ART AND DESIGN\n",
       "2            ART AND DESIGN\n",
       "3            ART AND DESIGN\n",
       "4            ART AND DESIGN\n",
       "               ...         \n",
       "9634                 FAMILY\n",
       "9635                 FAMILY\n",
       "9636                MEDICAL\n",
       "9637    BOOKS AND REFERENCE\n",
       "9638              LIFESTYLE\n",
       "Name: Category, Length: 9147, dtype: object"
      ]
     },
     "execution_count": 51,
     "metadata": {},
     "output_type": "execute_result"
    }
   ],
   "source": [
    "df['Category']"
   ]
  },
  {
   "cell_type": "code",
   "execution_count": 52,
   "id": "c50facbb-92e4-4230-b1d9-3dff9d1aa421",
   "metadata": {},
   "outputs": [
    {
     "data": {
      "text/plain": [
       "0    Varies with device\n",
       "Name: Current Ver, dtype: object"
      ]
     },
     "execution_count": 52,
     "metadata": {},
     "output_type": "execute_result"
    }
   ],
   "source": [
    "df['Current Ver'].mode()"
   ]
  },
  {
   "cell_type": "code",
   "execution_count": 53,
   "id": "ea433b18-0524-4d5a-8299-c3fded836489",
   "metadata": {},
   "outputs": [],
   "source": [
    "#fix garbage values in Current Ver.\n",
    "df.loc[df['Current Ver']=='Varies with device','Current Ver']=modeCV"
   ]
  },
  {
   "cell_type": "code",
   "execution_count": 54,
   "id": "e856001c-6a7a-4079-82b5-112a7eba65d9",
   "metadata": {},
   "outputs": [
    {
     "data": {
      "text/plain": [
       "0    1.0\n",
       "Name: Current Ver, dtype: object"
      ]
     },
     "execution_count": 54,
     "metadata": {},
     "output_type": "execute_result"
    }
   ],
   "source": [
    "df['Current Ver'].mode()"
   ]
  },
  {
   "cell_type": "code",
   "execution_count": 55,
   "id": "7db04ac9-d7f0-4835-92b3-e2cafbc6c791",
   "metadata": {},
   "outputs": [],
   "source": [
    "#fix garbage values in Android Ver.\n",
    "df.loc[df['Android Ver']=='Varies with device','Android Ver']=modeAV"
   ]
  },
  {
   "cell_type": "code",
   "execution_count": 56,
   "id": "6eb9d861-63bb-483e-9ecd-48d8be80e938",
   "metadata": {},
   "outputs": [
    {
     "data": {
      "text/plain": [
       "0    4.1 and up\n",
       "Name: Android Ver, dtype: object"
      ]
     },
     "execution_count": 56,
     "metadata": {},
     "output_type": "execute_result"
    }
   ],
   "source": [
    "df['Android Ver'].mode()"
   ]
  },
  {
   "cell_type": "code",
   "execution_count": 57,
   "id": "9d160856-051e-4fd6-9223-f06753eda5c3",
   "metadata": {},
   "outputs": [],
   "source": [
    "#column Installs(+) is the Installs column, but in numeric form.\n",
    "df['Installs(+)']=df['Installs'].apply(lambda x: int(x.replace(',','').replace('+','')))"
   ]
  },
  {
   "cell_type": "code",
   "execution_count": 58,
   "id": "f29fa1fc-52ea-4e77-ada4-d028d19f7da7",
   "metadata": {},
   "outputs": [
    {
     "data": {
      "text/html": [
       "<div>\n",
       "<style scoped>\n",
       "    .dataframe tbody tr th:only-of-type {\n",
       "        vertical-align: middle;\n",
       "    }\n",
       "\n",
       "    .dataframe tbody tr th {\n",
       "        vertical-align: top;\n",
       "    }\n",
       "\n",
       "    .dataframe thead th {\n",
       "        text-align: right;\n",
       "    }\n",
       "</style>\n",
       "<table border=\"1\" class=\"dataframe\">\n",
       "  <thead>\n",
       "    <tr style=\"text-align: right;\">\n",
       "      <th></th>\n",
       "      <th>App</th>\n",
       "      <th>Category</th>\n",
       "      <th>Rating</th>\n",
       "      <th>Reviews</th>\n",
       "      <th>Size</th>\n",
       "      <th>Installs</th>\n",
       "      <th>Type</th>\n",
       "      <th>Price</th>\n",
       "      <th>Content Rating</th>\n",
       "      <th>Genres</th>\n",
       "      <th>Last Updated</th>\n",
       "      <th>Current Ver</th>\n",
       "      <th>Android Ver</th>\n",
       "      <th>Size (Kb)</th>\n",
       "      <th>Price in dollars</th>\n",
       "      <th>Installs(+)</th>\n",
       "    </tr>\n",
       "  </thead>\n",
       "  <tbody>\n",
       "    <tr>\n",
       "      <th>0</th>\n",
       "      <td>Photo Editor &amp; Candy Camera &amp; Grid &amp; ScrapBook</td>\n",
       "      <td>ART AND DESIGN</td>\n",
       "      <td>4.1</td>\n",
       "      <td>159</td>\n",
       "      <td>19M</td>\n",
       "      <td>10,000+</td>\n",
       "      <td>Free</td>\n",
       "      <td>0</td>\n",
       "      <td>Everyone</td>\n",
       "      <td>Art &amp; Design</td>\n",
       "      <td>January 7, 2018</td>\n",
       "      <td>1.0.0</td>\n",
       "      <td>4.0.3 and up</td>\n",
       "      <td>19456.0</td>\n",
       "      <td>0.0</td>\n",
       "      <td>10000</td>\n",
       "    </tr>\n",
       "    <tr>\n",
       "      <th>1</th>\n",
       "      <td>Coloring book moana</td>\n",
       "      <td>ART AND DESIGN</td>\n",
       "      <td>3.9</td>\n",
       "      <td>967</td>\n",
       "      <td>14M</td>\n",
       "      <td>500,000+</td>\n",
       "      <td>Free</td>\n",
       "      <td>0</td>\n",
       "      <td>Everyone</td>\n",
       "      <td>Art &amp; Design;Pretend Play</td>\n",
       "      <td>January 15, 2018</td>\n",
       "      <td>2.0.0</td>\n",
       "      <td>4.0.3 and up</td>\n",
       "      <td>14336.0</td>\n",
       "      <td>0.0</td>\n",
       "      <td>500000</td>\n",
       "    </tr>\n",
       "    <tr>\n",
       "      <th>2</th>\n",
       "      <td>U Launcher Lite – FREE Live Cool Themes, Hide ...</td>\n",
       "      <td>ART AND DESIGN</td>\n",
       "      <td>4.7</td>\n",
       "      <td>87510</td>\n",
       "      <td>8.7M</td>\n",
       "      <td>5,000,000+</td>\n",
       "      <td>Free</td>\n",
       "      <td>0</td>\n",
       "      <td>Everyone</td>\n",
       "      <td>Art &amp; Design</td>\n",
       "      <td>August 1, 2018</td>\n",
       "      <td>1.2.4</td>\n",
       "      <td>4.0.3 and up</td>\n",
       "      <td>8908.8</td>\n",
       "      <td>0.0</td>\n",
       "      <td>5000000</td>\n",
       "    </tr>\n",
       "    <tr>\n",
       "      <th>3</th>\n",
       "      <td>Sketch - Draw &amp; Paint</td>\n",
       "      <td>ART AND DESIGN</td>\n",
       "      <td>4.5</td>\n",
       "      <td>215644</td>\n",
       "      <td>25M</td>\n",
       "      <td>50,000,000+</td>\n",
       "      <td>Free</td>\n",
       "      <td>0</td>\n",
       "      <td>Teen</td>\n",
       "      <td>Art &amp; Design</td>\n",
       "      <td>June 8, 2018</td>\n",
       "      <td>1.0</td>\n",
       "      <td>4.2 and up</td>\n",
       "      <td>25600.0</td>\n",
       "      <td>0.0</td>\n",
       "      <td>50000000</td>\n",
       "    </tr>\n",
       "    <tr>\n",
       "      <th>4</th>\n",
       "      <td>Pixel Draw - Number Art Coloring Book</td>\n",
       "      <td>ART AND DESIGN</td>\n",
       "      <td>4.3</td>\n",
       "      <td>967</td>\n",
       "      <td>2.8M</td>\n",
       "      <td>100,000+</td>\n",
       "      <td>Free</td>\n",
       "      <td>0</td>\n",
       "      <td>Everyone</td>\n",
       "      <td>Art &amp; Design;Creativity</td>\n",
       "      <td>June 20, 2018</td>\n",
       "      <td>1.1</td>\n",
       "      <td>4.4 and up</td>\n",
       "      <td>2867.2</td>\n",
       "      <td>0.0</td>\n",
       "      <td>100000</td>\n",
       "    </tr>\n",
       "  </tbody>\n",
       "</table>\n",
       "</div>"
      ],
      "text/plain": [
       "                                                 App        Category  Rating  \\\n",
       "0     Photo Editor & Candy Camera & Grid & ScrapBook  ART AND DESIGN     4.1   \n",
       "1                                Coloring book moana  ART AND DESIGN     3.9   \n",
       "2  U Launcher Lite – FREE Live Cool Themes, Hide ...  ART AND DESIGN     4.7   \n",
       "3                              Sketch - Draw & Paint  ART AND DESIGN     4.5   \n",
       "4              Pixel Draw - Number Art Coloring Book  ART AND DESIGN     4.3   \n",
       "\n",
       "   Reviews  Size     Installs  Type Price Content Rating  \\\n",
       "0      159   19M      10,000+  Free     0       Everyone   \n",
       "1      967   14M     500,000+  Free     0       Everyone   \n",
       "2    87510  8.7M   5,000,000+  Free     0       Everyone   \n",
       "3   215644   25M  50,000,000+  Free     0           Teen   \n",
       "4      967  2.8M     100,000+  Free     0       Everyone   \n",
       "\n",
       "                      Genres      Last Updated Current Ver   Android Ver  \\\n",
       "0               Art & Design   January 7, 2018       1.0.0  4.0.3 and up   \n",
       "1  Art & Design;Pretend Play  January 15, 2018       2.0.0  4.0.3 and up   \n",
       "2               Art & Design    August 1, 2018       1.2.4  4.0.3 and up   \n",
       "3               Art & Design      June 8, 2018         1.0    4.2 and up   \n",
       "4    Art & Design;Creativity     June 20, 2018         1.1    4.4 and up   \n",
       "\n",
       "   Size (Kb)  Price in dollars  Installs(+)  \n",
       "0    19456.0               0.0        10000  \n",
       "1    14336.0               0.0       500000  \n",
       "2     8908.8               0.0      5000000  \n",
       "3    25600.0               0.0     50000000  \n",
       "4     2867.2               0.0       100000  "
      ]
     },
     "execution_count": 58,
     "metadata": {},
     "output_type": "execute_result"
    }
   ],
   "source": [
    "df.head()"
   ]
  },
  {
   "cell_type": "code",
   "execution_count": 59,
   "id": "37ec9b9b-a221-4660-9725-60bfca0b174e",
   "metadata": {},
   "outputs": [
    {
     "data": {
      "text/plain": [
       "App                 0\n",
       "Category            0\n",
       "Rating              0\n",
       "Reviews             0\n",
       "Size                0\n",
       "Installs            0\n",
       "Type                0\n",
       "Price               0\n",
       "Content Rating      0\n",
       "Genres              0\n",
       "Last Updated        0\n",
       "Current Ver         0\n",
       "Android Ver         0\n",
       "Size (Kb)           0\n",
       "Price in dollars    0\n",
       "Installs(+)         0\n",
       "dtype: int64"
      ]
     },
     "execution_count": 59,
     "metadata": {},
     "output_type": "execute_result"
    }
   ],
   "source": [
    "df.isnull().sum()"
   ]
  },
  {
   "cell_type": "code",
   "execution_count": 60,
   "id": "864632d8-57ef-4755-a711-4dffec1cd1f9",
   "metadata": {},
   "outputs": [
    {
     "data": {
      "text/html": [
       "<div>\n",
       "<style scoped>\n",
       "    .dataframe tbody tr th:only-of-type {\n",
       "        vertical-align: middle;\n",
       "    }\n",
       "\n",
       "    .dataframe tbody tr th {\n",
       "        vertical-align: top;\n",
       "    }\n",
       "\n",
       "    .dataframe thead th {\n",
       "        text-align: right;\n",
       "    }\n",
       "</style>\n",
       "<table border=\"1\" class=\"dataframe\">\n",
       "  <thead>\n",
       "    <tr style=\"text-align: right;\">\n",
       "      <th></th>\n",
       "      <th>Rating</th>\n",
       "      <th>Reviews</th>\n",
       "      <th>Size (Kb)</th>\n",
       "      <th>Price in dollars</th>\n",
       "      <th>Installs(+)</th>\n",
       "    </tr>\n",
       "  </thead>\n",
       "  <tbody>\n",
       "    <tr>\n",
       "      <th>count</th>\n",
       "      <td>9147.000000</td>\n",
       "      <td>9.147000e+03</td>\n",
       "      <td>9147.000000</td>\n",
       "      <td>9147.000000</td>\n",
       "      <td>9.147000e+03</td>\n",
       "    </tr>\n",
       "    <tr>\n",
       "      <th>mean</th>\n",
       "      <td>4.274002</td>\n",
       "      <td>2.280545e+05</td>\n",
       "      <td>21189.138428</td>\n",
       "      <td>0.974846</td>\n",
       "      <td>8.178643e+06</td>\n",
       "    </tr>\n",
       "    <tr>\n",
       "      <th>std</th>\n",
       "      <td>0.339752</td>\n",
       "      <td>1.880516e+06</td>\n",
       "      <td>21037.898042</td>\n",
       "      <td>15.269310</td>\n",
       "      <td>5.520201e+07</td>\n",
       "    </tr>\n",
       "    <tr>\n",
       "      <th>min</th>\n",
       "      <td>3.300000</td>\n",
       "      <td>0.000000e+00</td>\n",
       "      <td>8.500000</td>\n",
       "      <td>0.000000</td>\n",
       "      <td>0.000000e+00</td>\n",
       "    </tr>\n",
       "    <tr>\n",
       "      <th>25%</th>\n",
       "      <td>4.100000</td>\n",
       "      <td>2.600000e+01</td>\n",
       "      <td>5529.600000</td>\n",
       "      <td>0.000000</td>\n",
       "      <td>1.000000e+03</td>\n",
       "    </tr>\n",
       "    <tr>\n",
       "      <th>50%</th>\n",
       "      <td>4.300000</td>\n",
       "      <td>1.320000e+03</td>\n",
       "      <td>16384.000000</td>\n",
       "      <td>0.000000</td>\n",
       "      <td>1.000000e+05</td>\n",
       "    </tr>\n",
       "    <tr>\n",
       "      <th>75%</th>\n",
       "      <td>4.500000</td>\n",
       "      <td>3.323250e+04</td>\n",
       "      <td>26624.000000</td>\n",
       "      <td>0.000000</td>\n",
       "      <td>1.000000e+06</td>\n",
       "    </tr>\n",
       "    <tr>\n",
       "      <th>max</th>\n",
       "      <td>5.000000</td>\n",
       "      <td>7.815831e+07</td>\n",
       "      <td>102400.000000</td>\n",
       "      <td>400.000000</td>\n",
       "      <td>1.000000e+09</td>\n",
       "    </tr>\n",
       "  </tbody>\n",
       "</table>\n",
       "</div>"
      ],
      "text/plain": [
       "            Rating       Reviews      Size (Kb)  Price in dollars  \\\n",
       "count  9147.000000  9.147000e+03    9147.000000       9147.000000   \n",
       "mean      4.274002  2.280545e+05   21189.138428          0.974846   \n",
       "std       0.339752  1.880516e+06   21037.898042         15.269310   \n",
       "min       3.300000  0.000000e+00       8.500000          0.000000   \n",
       "25%       4.100000  2.600000e+01    5529.600000          0.000000   \n",
       "50%       4.300000  1.320000e+03   16384.000000          0.000000   \n",
       "75%       4.500000  3.323250e+04   26624.000000          0.000000   \n",
       "max       5.000000  7.815831e+07  102400.000000        400.000000   \n",
       "\n",
       "        Installs(+)  \n",
       "count  9.147000e+03  \n",
       "mean   8.178643e+06  \n",
       "std    5.520201e+07  \n",
       "min    0.000000e+00  \n",
       "25%    1.000000e+03  \n",
       "50%    1.000000e+05  \n",
       "75%    1.000000e+06  \n",
       "max    1.000000e+09  "
      ]
     },
     "execution_count": 60,
     "metadata": {},
     "output_type": "execute_result"
    }
   ],
   "source": [
    "df.describe()"
   ]
  },
  {
   "cell_type": "markdown",
   "id": "173fdc22-78c3-428e-ac54-ce2d85ddf3de",
   "metadata": {},
   "source": [
    "### Analytical Questions:"
   ]
  },
  {
   "cell_type": "markdown",
   "id": "fa26a0b6-ed92-49e4-bfd9-92eb5a0e9fde",
   "metadata": {},
   "source": [
    "##### 1. What is the most expensive app on the Play Store?"
   ]
  },
  {
   "cell_type": "code",
   "execution_count": 63,
   "id": "bb5578b3-2321-4504-9fd1-3764ea01dd48",
   "metadata": {},
   "outputs": [
    {
     "data": {
      "text/html": [
       "<div>\n",
       "<style scoped>\n",
       "    .dataframe tbody tr th:only-of-type {\n",
       "        vertical-align: middle;\n",
       "    }\n",
       "\n",
       "    .dataframe tbody tr th {\n",
       "        vertical-align: top;\n",
       "    }\n",
       "\n",
       "    .dataframe thead th {\n",
       "        text-align: right;\n",
       "    }\n",
       "</style>\n",
       "<table border=\"1\" class=\"dataframe\">\n",
       "  <thead>\n",
       "    <tr style=\"text-align: right;\">\n",
       "      <th></th>\n",
       "      <th>App</th>\n",
       "      <th>Category</th>\n",
       "      <th>Rating</th>\n",
       "      <th>Reviews</th>\n",
       "      <th>Size</th>\n",
       "      <th>Installs</th>\n",
       "      <th>Type</th>\n",
       "      <th>Price</th>\n",
       "      <th>Content Rating</th>\n",
       "      <th>Genres</th>\n",
       "      <th>Last Updated</th>\n",
       "      <th>Current Ver</th>\n",
       "      <th>Android Ver</th>\n",
       "      <th>Size (Kb)</th>\n",
       "      <th>Price in dollars</th>\n",
       "      <th>Installs(+)</th>\n",
       "    </tr>\n",
       "  </thead>\n",
       "  <tbody>\n",
       "    <tr>\n",
       "      <th>3467</th>\n",
       "      <td>I'm Rich - Trump Edition</td>\n",
       "      <td>LIFESTYLE</td>\n",
       "      <td>3.6</td>\n",
       "      <td>275</td>\n",
       "      <td>7.3M</td>\n",
       "      <td>10,000+</td>\n",
       "      <td>Paid</td>\n",
       "      <td>$400.00</td>\n",
       "      <td>Everyone</td>\n",
       "      <td>Lifestyle</td>\n",
       "      <td>May 3, 2018</td>\n",
       "      <td>1.0.1</td>\n",
       "      <td>4.1 and up</td>\n",
       "      <td>7475.2</td>\n",
       "      <td>400.0</td>\n",
       "      <td>10000</td>\n",
       "    </tr>\n",
       "  </tbody>\n",
       "</table>\n",
       "</div>"
      ],
      "text/plain": [
       "                           App   Category  Rating  Reviews  Size Installs  \\\n",
       "3467  I'm Rich - Trump Edition  LIFESTYLE     3.6      275  7.3M  10,000+   \n",
       "\n",
       "      Type    Price Content Rating     Genres Last Updated Current Ver  \\\n",
       "3467  Paid  $400.00       Everyone  Lifestyle  May 3, 2018       1.0.1   \n",
       "\n",
       "     Android Ver  Size (Kb)  Price in dollars  Installs(+)  \n",
       "3467  4.1 and up     7475.2             400.0        10000  "
      ]
     },
     "execution_count": 63,
     "metadata": {},
     "output_type": "execute_result"
    }
   ],
   "source": [
    "price=df['Price in dollars'].max()\n",
    "df.loc[df['Price in dollars']==price]"
   ]
  },
  {
   "cell_type": "markdown",
   "id": "548bfdfc-7a5c-4044-8c9b-8cd9f8b0e9ee",
   "metadata": {},
   "source": [
    "##### 2. Which genre has the highest number of apps?\n"
   ]
  },
  {
   "cell_type": "code",
   "execution_count": 65,
   "id": "38a44ac7-02a4-4969-803f-7c3990caf0ca",
   "metadata": {},
   "outputs": [
    {
     "data": {
      "text/plain": [
       "'Tools'"
      ]
     },
     "execution_count": 65,
     "metadata": {},
     "output_type": "execute_result"
    }
   ],
   "source": [
    "#by knowing the most repeated Genre, we can tell which Genre has the most apps.\n",
    "df['Genres'].mode()[0]"
   ]
  },
  {
   "cell_type": "markdown",
   "id": "257e5bc7-49fd-47ce-8722-57c43dc43934",
   "metadata": {},
   "source": [
    "##### 3. What is the average size of free vs. paid apps?"
   ]
  },
  {
   "cell_type": "code",
   "execution_count": 67,
   "id": "e0a0bf88-cdc0-4ee6-8383-3886bec73668",
   "metadata": {},
   "outputs": [],
   "source": [
    "#split the 'Type' column into two dataframes, where each one has a 'Type' value.\n",
    "paid=df[df['Type']=='Paid']\n",
    "free=df[df['Type']=='Free']"
   ]
  },
  {
   "cell_type": "code",
   "execution_count": 68,
   "id": "9050cd5e-de9a-4a63-8673-c5b7641f4f5a",
   "metadata": {},
   "outputs": [
    {
     "name": "stdout",
     "output_type": "stream",
     "text": [
      "average size of free apps: 20.790027344493136 Mb , while average size of paid apps: 19.546069167741877 Mb\n"
     ]
    }
   ],
   "source": [
    "#calculate the mean value for each dataframe.\n",
    "print(f'average size of free apps: {free['Size (Kb)'].mean()/1024} Mb , while average size of paid apps: {paid['Size (Kb)'].mean()/1024} Mb')"
   ]
  },
  {
   "cell_type": "code",
   "execution_count": 69,
   "id": "8ce83855-9e65-4781-a467-3c9fcb49ce32",
   "metadata": {},
   "outputs": [
    {
     "data": {
      "text/plain": [
       "<Axes: ylabel='Size (Kb)'>"
      ]
     },
     "execution_count": 69,
     "metadata": {},
     "output_type": "execute_result"
    },
    {
     "data": {
      "image/png": "[encoded data removed]",
      "text/plain": [
       "<Figure size 640x480 with 1 Axes>"
      ]
     },
     "metadata": {},
     "output_type": "display_data"
    }
   ],
   "source": [
    "sns.scatterplot(paid['Size (Kb)'])"
   ]
  },
  {
   "cell_type": "code",
   "execution_count": 70,
   "id": "781f6dc7-da27-4e70-a74c-80db0488f27d",
   "metadata": {},
   "outputs": [
    {
     "data": {
      "text/plain": [
       "<Axes: ylabel='Size (Kb)'>"
      ]
     },
     "execution_count": 70,
     "metadata": {},
     "output_type": "execute_result"
    },
    {
     "data": {
      "image/png": "[encoded data removed]",
      "text/plain": [
       "<Figure size 640x480 with 1 Axes>"
      ]
     },
     "metadata": {},
     "output_type": "display_data"
    }
   ],
   "source": [
    "sns.scatterplot(free['Size (Kb)'])"
   ]
  },
  {
   "cell_type": "markdown",
   "id": "9f3ee06e-7fa4-404c-bbbf-88e829a6b3c7",
   "metadata": {},
   "source": [
    "##### 4. What are the top 5 most expensive apps with a perfect rating (5)?\n"
   ]
  },
  {
   "cell_type": "code",
   "execution_count": 72,
   "id": "87cbbf63-457b-49e0-ba45-79496a2ea314",
   "metadata": {},
   "outputs": [],
   "source": [
    "paid5=paid.loc[paid['Rating']==5]"
   ]
  },
  {
   "cell_type": "code",
   "execution_count": 73,
   "id": "d63fdde9-ffc1-4ba5-b11b-0a4c086f2cc5",
   "metadata": {},
   "outputs": [
    {
     "data": {
      "text/html": [
       "<div>\n",
       "<style scoped>\n",
       "    .dataframe tbody tr th:only-of-type {\n",
       "        vertical-align: middle;\n",
       "    }\n",
       "\n",
       "    .dataframe tbody tr th {\n",
       "        vertical-align: top;\n",
       "    }\n",
       "\n",
       "    .dataframe thead th {\n",
       "        text-align: right;\n",
       "    }\n",
       "</style>\n",
       "<table border=\"1\" class=\"dataframe\">\n",
       "  <thead>\n",
       "    <tr style=\"text-align: right;\">\n",
       "      <th></th>\n",
       "      <th>App</th>\n",
       "      <th>Category</th>\n",
       "      <th>Rating</th>\n",
       "      <th>Reviews</th>\n",
       "      <th>Size</th>\n",
       "      <th>Installs</th>\n",
       "      <th>Type</th>\n",
       "      <th>Price</th>\n",
       "      <th>Content Rating</th>\n",
       "      <th>Genres</th>\n",
       "      <th>Last Updated</th>\n",
       "      <th>Current Ver</th>\n",
       "      <th>Android Ver</th>\n",
       "      <th>Size (Kb)</th>\n",
       "      <th>Price in dollars</th>\n",
       "      <th>Installs(+)</th>\n",
       "    </tr>\n",
       "  </thead>\n",
       "  <tbody>\n",
       "    <tr>\n",
       "      <th>4514</th>\n",
       "      <td>AP Art History Flashcards</td>\n",
       "      <td>FAMILY</td>\n",
       "      <td>5.0</td>\n",
       "      <td>1</td>\n",
       "      <td>96M</td>\n",
       "      <td>10+</td>\n",
       "      <td>Paid</td>\n",
       "      <td>$29.99</td>\n",
       "      <td>Mature 17+</td>\n",
       "      <td>Education</td>\n",
       "      <td>January 19, 2016</td>\n",
       "      <td>3.30</td>\n",
       "      <td>4.0 and up</td>\n",
       "      <td>98304.0</td>\n",
       "      <td>29.99</td>\n",
       "      <td>10</td>\n",
       "    </tr>\n",
       "    <tr>\n",
       "      <th>6412</th>\n",
       "      <td>USMLE Step 2 CK Flashcards</td>\n",
       "      <td>FAMILY</td>\n",
       "      <td>5.0</td>\n",
       "      <td>1</td>\n",
       "      <td>40M</td>\n",
       "      <td>10+</td>\n",
       "      <td>Paid</td>\n",
       "      <td>$19.99</td>\n",
       "      <td>Everyone</td>\n",
       "      <td>Education</td>\n",
       "      <td>May 26, 2014</td>\n",
       "      <td>2.47</td>\n",
       "      <td>2.2 and up</td>\n",
       "      <td>40960.0</td>\n",
       "      <td>19.99</td>\n",
       "      <td>10</td>\n",
       "    </tr>\n",
       "    <tr>\n",
       "      <th>4286</th>\n",
       "      <td>Hey AJ! It's Bedtime!</td>\n",
       "      <td>FAMILY</td>\n",
       "      <td>5.0</td>\n",
       "      <td>1</td>\n",
       "      <td>63M</td>\n",
       "      <td>10+</td>\n",
       "      <td>Paid</td>\n",
       "      <td>$4.99</td>\n",
       "      <td>Everyone</td>\n",
       "      <td>Education</td>\n",
       "      <td>April 4, 2018</td>\n",
       "      <td>1.0.59</td>\n",
       "      <td>2.3 and up</td>\n",
       "      <td>64512.0</td>\n",
       "      <td>4.99</td>\n",
       "      <td>10</td>\n",
       "    </tr>\n",
       "    <tr>\n",
       "      <th>4507</th>\n",
       "      <td>meStudying: AP English Lit</td>\n",
       "      <td>FAMILY</td>\n",
       "      <td>5.0</td>\n",
       "      <td>1</td>\n",
       "      <td>655k</td>\n",
       "      <td>10+</td>\n",
       "      <td>Paid</td>\n",
       "      <td>$4.99</td>\n",
       "      <td>Everyone</td>\n",
       "      <td>Education</td>\n",
       "      <td>August 31, 2013</td>\n",
       "      <td>1.3</td>\n",
       "      <td>2.0.1 and up</td>\n",
       "      <td>655.0</td>\n",
       "      <td>4.99</td>\n",
       "      <td>10</td>\n",
       "    </tr>\n",
       "    <tr>\n",
       "      <th>6144</th>\n",
       "      <td>TI-84 CE Graphing Calculator Manual TI 84</td>\n",
       "      <td>FAMILY</td>\n",
       "      <td>5.0</td>\n",
       "      <td>1</td>\n",
       "      <td>27M</td>\n",
       "      <td>100+</td>\n",
       "      <td>Paid</td>\n",
       "      <td>$4.99</td>\n",
       "      <td>Everyone</td>\n",
       "      <td>Education</td>\n",
       "      <td>March 28, 2018</td>\n",
       "      <td>1.5.2</td>\n",
       "      <td>4.1 and up</td>\n",
       "      <td>27648.0</td>\n",
       "      <td>4.99</td>\n",
       "      <td>100</td>\n",
       "    </tr>\n",
       "  </tbody>\n",
       "</table>\n",
       "</div>"
      ],
      "text/plain": [
       "                                            App Category  Rating  Reviews  \\\n",
       "4514                  AP Art History Flashcards   FAMILY     5.0        1   \n",
       "6412                 USMLE Step 2 CK Flashcards   FAMILY     5.0        1   \n",
       "4286                      Hey AJ! It's Bedtime!   FAMILY     5.0        1   \n",
       "4507                 meStudying: AP English Lit   FAMILY     5.0        1   \n",
       "6144  TI-84 CE Graphing Calculator Manual TI 84   FAMILY     5.0        1   \n",
       "\n",
       "      Size Installs  Type   Price Content Rating     Genres      Last Updated  \\\n",
       "4514   96M      10+  Paid  $29.99     Mature 17+  Education  January 19, 2016   \n",
       "6412   40M      10+  Paid  $19.99       Everyone  Education      May 26, 2014   \n",
       "4286   63M      10+  Paid   $4.99       Everyone  Education     April 4, 2018   \n",
       "4507  655k      10+  Paid   $4.99       Everyone  Education   August 31, 2013   \n",
       "6144   27M     100+  Paid   $4.99       Everyone  Education    March 28, 2018   \n",
       "\n",
       "     Current Ver   Android Ver  Size (Kb)  Price in dollars  Installs(+)  \n",
       "4514        3.30    4.0 and up    98304.0             29.99           10  \n",
       "6412        2.47    2.2 and up    40960.0             19.99           10  \n",
       "4286      1.0.59    2.3 and up    64512.0              4.99           10  \n",
       "4507         1.3  2.0.1 and up      655.0              4.99           10  \n",
       "6144       1.5.2    4.1 and up    27648.0              4.99          100  "
      ]
     },
     "execution_count": 73,
     "metadata": {},
     "output_type": "execute_result"
    }
   ],
   "source": [
    "ind=paid5['Price in dollars'].nlargest(5).index\n",
    "paid5=pd.DataFrame(paid5.loc[ind])\n",
    "paid5.loc[ind]"
   ]
  },
  {
   "cell_type": "code",
   "execution_count": 74,
   "id": "bd458604-d900-4211-80ca-1f11dc9207ad",
   "metadata": {},
   "outputs": [
    {
     "data": {
      "image/png": "[encoded data removed]",
      "text/plain": [
       "<Figure size 640x480 with 1 Axes>"
      ]
     },
     "metadata": {},
     "output_type": "display_data"
    }
   ],
   "source": [
    "sns.barplot(paid5,x='App',y='Price in dollars')\n",
    "plt.xticks(rotation=45)\n",
    "plt.show()"
   ]
  },
  {
   "cell_type": "markdown",
   "id": "c28f7919-528b-411b-a89f-ab9e4d4a117b",
   "metadata": {},
   "source": [
    "##### 5. How many apps have received more than 50K reviews?"
   ]
  },
  {
   "cell_type": "code",
   "execution_count": 76,
   "id": "95bebecc-2a08-4976-aa87-8db796032399",
   "metadata": {},
   "outputs": [],
   "source": [
    "rev=df.loc[df['Reviews']>50000]"
   ]
  },
  {
   "cell_type": "code",
   "execution_count": 77,
   "id": "97584fcb-d796-4e57-949e-14bc5e2a5a5b",
   "metadata": {},
   "outputs": [
    {
     "name": "stdout",
     "output_type": "stream",
     "text": [
      "There's 1939 apps that have more than 50K reviews.\n"
     ]
    }
   ],
   "source": [
    "rows,_=rev.shape\n",
    "print(f\"There's {rows} apps that have more than 50K reviews.\")"
   ]
  },
  {
   "cell_type": "markdown",
   "id": "6e42d8c2-27b4-4682-8546-5b5d7b38a7be",
   "metadata": {},
   "source": [
    "##### 6. What is the average price of apps, grouped by genre and number of installs?"
   ]
  },
  {
   "cell_type": "code",
   "execution_count": 79,
   "id": "a0afe12f-d3f2-4d34-b361-3a702454807b",
   "metadata": {},
   "outputs": [],
   "source": [
    "grouped=df.groupby(['Genres', 'Installs(+)'])['Price in dollars'].mean().unstack(fill_value=0)"
   ]
  },
  {
   "cell_type": "code",
   "execution_count": 80,
   "id": "a387ec2d-90c1-4381-857a-f1fe846f2593",
   "metadata": {},
   "outputs": [
    {
     "data": {
      "text/html": [
       "<div>\n",
       "<style scoped>\n",
       "    .dataframe tbody tr th:only-of-type {\n",
       "        vertical-align: middle;\n",
       "    }\n",
       "\n",
       "    .dataframe tbody tr th {\n",
       "        vertical-align: top;\n",
       "    }\n",
       "\n",
       "    .dataframe thead th {\n",
       "        text-align: right;\n",
       "    }\n",
       "</style>\n",
       "<table border=\"1\" class=\"dataframe\">\n",
       "  <thead>\n",
       "    <tr style=\"text-align: right;\">\n",
       "      <th>Installs(+)</th>\n",
       "      <th>0</th>\n",
       "      <th>1</th>\n",
       "      <th>5</th>\n",
       "      <th>10</th>\n",
       "      <th>50</th>\n",
       "      <th>100</th>\n",
       "      <th>500</th>\n",
       "      <th>1000</th>\n",
       "      <th>5000</th>\n",
       "      <th>10000</th>\n",
       "      <th>50000</th>\n",
       "      <th>100000</th>\n",
       "      <th>500000</th>\n",
       "      <th>1000000</th>\n",
       "      <th>5000000</th>\n",
       "      <th>10000000</th>\n",
       "      <th>50000000</th>\n",
       "      <th>100000000</th>\n",
       "      <th>500000000</th>\n",
       "      <th>1000000000</th>\n",
       "    </tr>\n",
       "    <tr>\n",
       "      <th>Genres</th>\n",
       "      <th></th>\n",
       "      <th></th>\n",
       "      <th></th>\n",
       "      <th></th>\n",
       "      <th></th>\n",
       "      <th></th>\n",
       "      <th></th>\n",
       "      <th></th>\n",
       "      <th></th>\n",
       "      <th></th>\n",
       "      <th></th>\n",
       "      <th></th>\n",
       "      <th></th>\n",
       "      <th></th>\n",
       "      <th></th>\n",
       "      <th></th>\n",
       "      <th></th>\n",
       "      <th></th>\n",
       "      <th></th>\n",
       "      <th></th>\n",
       "    </tr>\n",
       "  </thead>\n",
       "  <tbody>\n",
       "    <tr>\n",
       "      <th>Action</th>\n",
       "      <td>0.0</td>\n",
       "      <td>0.0</td>\n",
       "      <td>0.0</td>\n",
       "      <td>0.0</td>\n",
       "      <td>0.663333</td>\n",
       "      <td>1.096000</td>\n",
       "      <td>0.00</td>\n",
       "      <td>0.3725</td>\n",
       "      <td>0.000</td>\n",
       "      <td>1.871875</td>\n",
       "      <td>0.427143</td>\n",
       "      <td>0.399000</td>\n",
       "      <td>0.090455</td>\n",
       "      <td>0.3450</td>\n",
       "      <td>0.0</td>\n",
       "      <td>0.015231</td>\n",
       "      <td>0.0</td>\n",
       "      <td>0.0</td>\n",
       "      <td>0.0</td>\n",
       "      <td>0.0</td>\n",
       "    </tr>\n",
       "    <tr>\n",
       "      <th>Action;Action &amp; Adventure</th>\n",
       "      <td>0.0</td>\n",
       "      <td>0.0</td>\n",
       "      <td>0.0</td>\n",
       "      <td>0.0</td>\n",
       "      <td>0.000000</td>\n",
       "      <td>0.000000</td>\n",
       "      <td>1.99</td>\n",
       "      <td>0.0000</td>\n",
       "      <td>0.000</td>\n",
       "      <td>3.490000</td>\n",
       "      <td>0.000000</td>\n",
       "      <td>0.000000</td>\n",
       "      <td>0.000000</td>\n",
       "      <td>0.0000</td>\n",
       "      <td>0.0</td>\n",
       "      <td>0.000000</td>\n",
       "      <td>0.0</td>\n",
       "      <td>0.0</td>\n",
       "      <td>0.0</td>\n",
       "      <td>0.0</td>\n",
       "    </tr>\n",
       "    <tr>\n",
       "      <th>Adventure</th>\n",
       "      <td>0.0</td>\n",
       "      <td>0.0</td>\n",
       "      <td>0.0</td>\n",
       "      <td>0.0</td>\n",
       "      <td>0.000000</td>\n",
       "      <td>1.993333</td>\n",
       "      <td>0.00</td>\n",
       "      <td>3.1940</td>\n",
       "      <td>3.495</td>\n",
       "      <td>1.247500</td>\n",
       "      <td>0.831667</td>\n",
       "      <td>0.690769</td>\n",
       "      <td>0.000000</td>\n",
       "      <td>0.0825</td>\n",
       "      <td>0.0</td>\n",
       "      <td>0.000000</td>\n",
       "      <td>0.0</td>\n",
       "      <td>0.0</td>\n",
       "      <td>0.0</td>\n",
       "      <td>0.0</td>\n",
       "    </tr>\n",
       "    <tr>\n",
       "      <th>Adventure;Action &amp; Adventure</th>\n",
       "      <td>0.0</td>\n",
       "      <td>0.0</td>\n",
       "      <td>0.0</td>\n",
       "      <td>0.0</td>\n",
       "      <td>0.000000</td>\n",
       "      <td>0.000000</td>\n",
       "      <td>0.00</td>\n",
       "      <td>0.0000</td>\n",
       "      <td>0.000</td>\n",
       "      <td>0.000000</td>\n",
       "      <td>4.990000</td>\n",
       "      <td>4.990000</td>\n",
       "      <td>0.000000</td>\n",
       "      <td>0.0000</td>\n",
       "      <td>0.0</td>\n",
       "      <td>0.000000</td>\n",
       "      <td>0.0</td>\n",
       "      <td>0.0</td>\n",
       "      <td>0.0</td>\n",
       "      <td>0.0</td>\n",
       "    </tr>\n",
       "    <tr>\n",
       "      <th>Adventure;Brain Games</th>\n",
       "      <td>0.0</td>\n",
       "      <td>0.0</td>\n",
       "      <td>0.0</td>\n",
       "      <td>0.0</td>\n",
       "      <td>0.000000</td>\n",
       "      <td>0.000000</td>\n",
       "      <td>0.00</td>\n",
       "      <td>0.0000</td>\n",
       "      <td>0.000</td>\n",
       "      <td>0.000000</td>\n",
       "      <td>0.000000</td>\n",
       "      <td>2.990000</td>\n",
       "      <td>0.000000</td>\n",
       "      <td>0.0000</td>\n",
       "      <td>0.0</td>\n",
       "      <td>0.000000</td>\n",
       "      <td>0.0</td>\n",
       "      <td>0.0</td>\n",
       "      <td>0.0</td>\n",
       "      <td>0.0</td>\n",
       "    </tr>\n",
       "    <tr>\n",
       "      <th>...</th>\n",
       "      <td>...</td>\n",
       "      <td>...</td>\n",
       "      <td>...</td>\n",
       "      <td>...</td>\n",
       "      <td>...</td>\n",
       "      <td>...</td>\n",
       "      <td>...</td>\n",
       "      <td>...</td>\n",
       "      <td>...</td>\n",
       "      <td>...</td>\n",
       "      <td>...</td>\n",
       "      <td>...</td>\n",
       "      <td>...</td>\n",
       "      <td>...</td>\n",
       "      <td>...</td>\n",
       "      <td>...</td>\n",
       "      <td>...</td>\n",
       "      <td>...</td>\n",
       "      <td>...</td>\n",
       "      <td>...</td>\n",
       "    </tr>\n",
       "    <tr>\n",
       "      <th>Video Players &amp; Editors</th>\n",
       "      <td>0.0</td>\n",
       "      <td>0.0</td>\n",
       "      <td>0.0</td>\n",
       "      <td>0.0</td>\n",
       "      <td>0.000000</td>\n",
       "      <td>0.000000</td>\n",
       "      <td>0.00</td>\n",
       "      <td>0.0000</td>\n",
       "      <td>0.000</td>\n",
       "      <td>0.267692</td>\n",
       "      <td>0.855714</td>\n",
       "      <td>0.000000</td>\n",
       "      <td>0.000000</td>\n",
       "      <td>0.0000</td>\n",
       "      <td>0.0</td>\n",
       "      <td>0.000000</td>\n",
       "      <td>0.0</td>\n",
       "      <td>0.0</td>\n",
       "      <td>0.0</td>\n",
       "      <td>0.0</td>\n",
       "    </tr>\n",
       "    <tr>\n",
       "      <th>Video Players &amp; Editors;Creativity</th>\n",
       "      <td>0.0</td>\n",
       "      <td>0.0</td>\n",
       "      <td>0.0</td>\n",
       "      <td>0.0</td>\n",
       "      <td>0.000000</td>\n",
       "      <td>0.000000</td>\n",
       "      <td>0.00</td>\n",
       "      <td>0.0000</td>\n",
       "      <td>0.000</td>\n",
       "      <td>0.000000</td>\n",
       "      <td>0.000000</td>\n",
       "      <td>0.000000</td>\n",
       "      <td>0.000000</td>\n",
       "      <td>0.0000</td>\n",
       "      <td>0.0</td>\n",
       "      <td>0.000000</td>\n",
       "      <td>0.0</td>\n",
       "      <td>0.0</td>\n",
       "      <td>0.0</td>\n",
       "      <td>0.0</td>\n",
       "    </tr>\n",
       "    <tr>\n",
       "      <th>Video Players &amp; Editors;Music &amp; Video</th>\n",
       "      <td>0.0</td>\n",
       "      <td>0.0</td>\n",
       "      <td>0.0</td>\n",
       "      <td>0.0</td>\n",
       "      <td>0.000000</td>\n",
       "      <td>0.000000</td>\n",
       "      <td>0.00</td>\n",
       "      <td>0.0000</td>\n",
       "      <td>0.000</td>\n",
       "      <td>0.000000</td>\n",
       "      <td>0.000000</td>\n",
       "      <td>0.000000</td>\n",
       "      <td>0.000000</td>\n",
       "      <td>0.0000</td>\n",
       "      <td>0.0</td>\n",
       "      <td>0.000000</td>\n",
       "      <td>0.0</td>\n",
       "      <td>0.0</td>\n",
       "      <td>0.0</td>\n",
       "      <td>0.0</td>\n",
       "    </tr>\n",
       "    <tr>\n",
       "      <th>Weather</th>\n",
       "      <td>0.0</td>\n",
       "      <td>0.0</td>\n",
       "      <td>0.0</td>\n",
       "      <td>0.0</td>\n",
       "      <td>0.000000</td>\n",
       "      <td>0.000000</td>\n",
       "      <td>1.66</td>\n",
       "      <td>1.7475</td>\n",
       "      <td>0.000</td>\n",
       "      <td>0.747500</td>\n",
       "      <td>0.000000</td>\n",
       "      <td>0.764667</td>\n",
       "      <td>0.855714</td>\n",
       "      <td>0.0000</td>\n",
       "      <td>0.0</td>\n",
       "      <td>0.000000</td>\n",
       "      <td>0.0</td>\n",
       "      <td>0.0</td>\n",
       "      <td>0.0</td>\n",
       "      <td>0.0</td>\n",
       "    </tr>\n",
       "    <tr>\n",
       "      <th>Word</th>\n",
       "      <td>0.0</td>\n",
       "      <td>0.0</td>\n",
       "      <td>0.0</td>\n",
       "      <td>0.0</td>\n",
       "      <td>0.000000</td>\n",
       "      <td>0.000000</td>\n",
       "      <td>0.00</td>\n",
       "      <td>0.0000</td>\n",
       "      <td>0.000</td>\n",
       "      <td>0.000000</td>\n",
       "      <td>0.000000</td>\n",
       "      <td>0.000000</td>\n",
       "      <td>0.000000</td>\n",
       "      <td>0.0000</td>\n",
       "      <td>0.0</td>\n",
       "      <td>0.000000</td>\n",
       "      <td>0.0</td>\n",
       "      <td>0.0</td>\n",
       "      <td>0.0</td>\n",
       "      <td>0.0</td>\n",
       "    </tr>\n",
       "  </tbody>\n",
       "</table>\n",
       "<p>118 rows × 20 columns</p>\n",
       "</div>"
      ],
      "text/plain": [
       "Installs(+)                            0           1           5           \\\n",
       "Genres                                                                      \n",
       "Action                                        0.0         0.0         0.0   \n",
       "Action;Action & Adventure                     0.0         0.0         0.0   \n",
       "Adventure                                     0.0         0.0         0.0   \n",
       "Adventure;Action & Adventure                  0.0         0.0         0.0   \n",
       "Adventure;Brain Games                         0.0         0.0         0.0   \n",
       "...                                           ...         ...         ...   \n",
       "Video Players & Editors                       0.0         0.0         0.0   \n",
       "Video Players & Editors;Creativity            0.0         0.0         0.0   \n",
       "Video Players & Editors;Music & Video         0.0         0.0         0.0   \n",
       "Weather                                       0.0         0.0         0.0   \n",
       "Word                                          0.0         0.0         0.0   \n",
       "\n",
       "Installs(+)                            10          50          100         \\\n",
       "Genres                                                                      \n",
       "Action                                        0.0    0.663333    1.096000   \n",
       "Action;Action & Adventure                     0.0    0.000000    0.000000   \n",
       "Adventure                                     0.0    0.000000    1.993333   \n",
       "Adventure;Action & Adventure                  0.0    0.000000    0.000000   \n",
       "Adventure;Brain Games                         0.0    0.000000    0.000000   \n",
       "...                                           ...         ...         ...   \n",
       "Video Players & Editors                       0.0    0.000000    0.000000   \n",
       "Video Players & Editors;Creativity            0.0    0.000000    0.000000   \n",
       "Video Players & Editors;Music & Video         0.0    0.000000    0.000000   \n",
       "Weather                                       0.0    0.000000    0.000000   \n",
       "Word                                          0.0    0.000000    0.000000   \n",
       "\n",
       "Installs(+)                            500         1000        5000        \\\n",
       "Genres                                                                      \n",
       "Action                                       0.00      0.3725       0.000   \n",
       "Action;Action & Adventure                    1.99      0.0000       0.000   \n",
       "Adventure                                    0.00      3.1940       3.495   \n",
       "Adventure;Action & Adventure                 0.00      0.0000       0.000   \n",
       "Adventure;Brain Games                        0.00      0.0000       0.000   \n",
       "...                                           ...         ...         ...   \n",
       "Video Players & Editors                      0.00      0.0000       0.000   \n",
       "Video Players & Editors;Creativity           0.00      0.0000       0.000   \n",
       "Video Players & Editors;Music & Video        0.00      0.0000       0.000   \n",
       "Weather                                      1.66      1.7475       0.000   \n",
       "Word                                         0.00      0.0000       0.000   \n",
       "\n",
       "Installs(+)                            10000       50000       100000      \\\n",
       "Genres                                                                      \n",
       "Action                                   1.871875    0.427143    0.399000   \n",
       "Action;Action & Adventure                3.490000    0.000000    0.000000   \n",
       "Adventure                                1.247500    0.831667    0.690769   \n",
       "Adventure;Action & Adventure             0.000000    4.990000    4.990000   \n",
       "Adventure;Brain Games                    0.000000    0.000000    2.990000   \n",
       "...                                           ...         ...         ...   \n",
       "Video Players & Editors                  0.267692    0.855714    0.000000   \n",
       "Video Players & Editors;Creativity       0.000000    0.000000    0.000000   \n",
       "Video Players & Editors;Music & Video    0.000000    0.000000    0.000000   \n",
       "Weather                                  0.747500    0.000000    0.764667   \n",
       "Word                                     0.000000    0.000000    0.000000   \n",
       "\n",
       "Installs(+)                            500000      1000000     5000000     \\\n",
       "Genres                                                                      \n",
       "Action                                   0.090455      0.3450         0.0   \n",
       "Action;Action & Adventure                0.000000      0.0000         0.0   \n",
       "Adventure                                0.000000      0.0825         0.0   \n",
       "Adventure;Action & Adventure             0.000000      0.0000         0.0   \n",
       "Adventure;Brain Games                    0.000000      0.0000         0.0   \n",
       "...                                           ...         ...         ...   \n",
       "Video Players & Editors                  0.000000      0.0000         0.0   \n",
       "Video Players & Editors;Creativity       0.000000      0.0000         0.0   \n",
       "Video Players & Editors;Music & Video    0.000000      0.0000         0.0   \n",
       "Weather                                  0.855714      0.0000         0.0   \n",
       "Word                                     0.000000      0.0000         0.0   \n",
       "\n",
       "Installs(+)                            10000000    50000000    100000000   \\\n",
       "Genres                                                                      \n",
       "Action                                   0.015231         0.0         0.0   \n",
       "Action;Action & Adventure                0.000000         0.0         0.0   \n",
       "Adventure                                0.000000         0.0         0.0   \n",
       "Adventure;Action & Adventure             0.000000         0.0         0.0   \n",
       "Adventure;Brain Games                    0.000000         0.0         0.0   \n",
       "...                                           ...         ...         ...   \n",
       "Video Players & Editors                  0.000000         0.0         0.0   \n",
       "Video Players & Editors;Creativity       0.000000         0.0         0.0   \n",
       "Video Players & Editors;Music & Video    0.000000         0.0         0.0   \n",
       "Weather                                  0.000000         0.0         0.0   \n",
       "Word                                     0.000000         0.0         0.0   \n",
       "\n",
       "Installs(+)                            500000000   1000000000  \n",
       "Genres                                                         \n",
       "Action                                        0.0         0.0  \n",
       "Action;Action & Adventure                     0.0         0.0  \n",
       "Adventure                                     0.0         0.0  \n",
       "Adventure;Action & Adventure                  0.0         0.0  \n",
       "Adventure;Brain Games                         0.0         0.0  \n",
       "...                                           ...         ...  \n",
       "Video Players & Editors                       0.0         0.0  \n",
       "Video Players & Editors;Creativity            0.0         0.0  \n",
       "Video Players & Editors;Music & Video         0.0         0.0  \n",
       "Weather                                       0.0         0.0  \n",
       "Word                                          0.0         0.0  \n",
       "\n",
       "[118 rows x 20 columns]"
      ]
     },
     "execution_count": 80,
     "metadata": {},
     "output_type": "execute_result"
    }
   ],
   "source": [
    "grouped"
   ]
  },
  {
   "cell_type": "code",
   "execution_count": 81,
   "id": "d6796c66-bcc7-48cb-bda2-f33e6910ad5e",
   "metadata": {},
   "outputs": [
    {
     "data": {
      "image/png": "[encoded data removed]",
      "text/plain": [
       "<Figure size 1400x800 with 1 Axes>"
      ]
     },
     "metadata": {},
     "output_type": "display_data"
    }
   ],
   "source": [
    "#plot the stacked bar chart\n",
    "grouped.plot(kind='bar', stacked=True, figsize=(14, 8), colormap='viridis')\n",
    "\n",
    "#add labels\n",
    "plt.xlabel('Genres', fontsize=12)\n",
    "plt.ylabel('Average Price', fontsize=12)\n",
    "plt.legend(title='Number of Installs', loc='upper right')\n",
    "plt.xticks(fontsize=8)\n",
    "\n",
    "#display\n",
    "plt.tight_layout()\n",
    "plt.show()"
   ]
  },
  {
   "cell_type": "markdown",
   "id": "ed964774-29a3-457e-95ae-46b11e8f1e14",
   "metadata": {},
   "source": [
    "##### 7. How many apps have a rating higher than 4.7, and what is their average price?\n"
   ]
  },
  {
   "cell_type": "code",
   "execution_count": 83,
   "id": "2481b3c8-ed0e-4975-a914-1bc8e97d957c",
   "metadata": {},
   "outputs": [],
   "source": [
    "hirate=df.loc[df['Rating']>4.7]"
   ]
  },
  {
   "cell_type": "code",
   "execution_count": 84,
   "id": "7add6ca5-bf3d-45a0-8f53-dea40dfb6f63",
   "metadata": {},
   "outputs": [
    {
     "name": "stdout",
     "output_type": "stream",
     "text": [
      "There's 577 apps with a rating higher than 4.7 and their average price is: $0.4620970537261698\n"
     ]
    }
   ],
   "source": [
    "rows,_=hirate.shape\n",
    "print(f\"There's {rows} apps with a rating higher than 4.7 and their average price is: ${hirate['Price in dollars'].mean()}\")"
   ]
  },
  {
   "cell_type": "markdown",
   "id": "ccfd1cc1-81ad-4119-a699-fe3b1374ce50",
   "metadata": {},
   "source": [
    "##### 8. What is Google's estimated revenue from apps with 5,000,000+ installs? (Assuming Google takes a 30% cut from app sales)\n"
   ]
  },
  {
   "cell_type": "code",
   "execution_count": 86,
   "id": "50038f1e-f5eb-4c69-ba08-01414a0afa8e",
   "metadata": {},
   "outputs": [],
   "source": [
    "#locate apps that have more than 5,000,000 \n",
    "sales=df.loc[df[\"Installs(+)\"]>=5000000]\n",
    "sales=sales.loc[sales['Type']=='Paid']\n",
    "# sales2=df.loc[df[\"Installs\"]=='10,000,000+']\n",
    "# pd.concat([sales,sales2],axis=0)"
   ]
  },
  {
   "cell_type": "code",
   "execution_count": 87,
   "id": "80295e61-d235-49c7-9733-b2a9148b0d8a",
   "metadata": {},
   "outputs": [
    {
     "data": {
      "text/html": [
       "<div>\n",
       "<style scoped>\n",
       "    .dataframe tbody tr th:only-of-type {\n",
       "        vertical-align: middle;\n",
       "    }\n",
       "\n",
       "    .dataframe tbody tr th {\n",
       "        vertical-align: top;\n",
       "    }\n",
       "\n",
       "    .dataframe thead th {\n",
       "        text-align: right;\n",
       "    }\n",
       "</style>\n",
       "<table border=\"1\" class=\"dataframe\">\n",
       "  <thead>\n",
       "    <tr style=\"text-align: right;\">\n",
       "      <th></th>\n",
       "      <th>App</th>\n",
       "      <th>Category</th>\n",
       "      <th>Rating</th>\n",
       "      <th>Reviews</th>\n",
       "      <th>Size</th>\n",
       "      <th>Installs</th>\n",
       "      <th>Type</th>\n",
       "      <th>Price</th>\n",
       "      <th>Content Rating</th>\n",
       "      <th>Genres</th>\n",
       "      <th>Last Updated</th>\n",
       "      <th>Current Ver</th>\n",
       "      <th>Android Ver</th>\n",
       "      <th>Size (Kb)</th>\n",
       "      <th>Price in dollars</th>\n",
       "      <th>Installs(+)</th>\n",
       "    </tr>\n",
       "  </thead>\n",
       "  <tbody>\n",
       "    <tr>\n",
       "      <th>1743</th>\n",
       "      <td>Minecraft</td>\n",
       "      <td>FAMILY</td>\n",
       "      <td>4.5</td>\n",
       "      <td>2376564</td>\n",
       "      <td>Varies with device</td>\n",
       "      <td>10,000,000+</td>\n",
       "      <td>Paid</td>\n",
       "      <td>$6.99</td>\n",
       "      <td>Everyone 10+</td>\n",
       "      <td>Arcade;Action &amp; Adventure</td>\n",
       "      <td>July 24, 2018</td>\n",
       "      <td>1.5.2.1</td>\n",
       "      <td>4.1 and up</td>\n",
       "      <td>21189.138428</td>\n",
       "      <td>6.99</td>\n",
       "      <td>10000000</td>\n",
       "    </tr>\n",
       "    <tr>\n",
       "      <th>3206</th>\n",
       "      <td>Hitman Sniper</td>\n",
       "      <td>GAME</td>\n",
       "      <td>4.6</td>\n",
       "      <td>408292</td>\n",
       "      <td>29M</td>\n",
       "      <td>10,000,000+</td>\n",
       "      <td>Paid</td>\n",
       "      <td>$0.99</td>\n",
       "      <td>Mature 17+</td>\n",
       "      <td>Action</td>\n",
       "      <td>July 12, 2018</td>\n",
       "      <td>1.7.110758</td>\n",
       "      <td>4.1 and up</td>\n",
       "      <td>29696.000000</td>\n",
       "      <td>0.99</td>\n",
       "      <td>10000000</td>\n",
       "    </tr>\n",
       "  </tbody>\n",
       "</table>\n",
       "</div>"
      ],
      "text/plain": [
       "                App Category  Rating  Reviews                Size  \\\n",
       "1743      Minecraft   FAMILY     4.5  2376564  Varies with device   \n",
       "3206  Hitman Sniper     GAME     4.6   408292                 29M   \n",
       "\n",
       "         Installs  Type  Price Content Rating                     Genres  \\\n",
       "1743  10,000,000+  Paid  $6.99   Everyone 10+  Arcade;Action & Adventure   \n",
       "3206  10,000,000+  Paid  $0.99     Mature 17+                     Action   \n",
       "\n",
       "       Last Updated Current Ver Android Ver     Size (Kb)  Price in dollars  \\\n",
       "1743  July 24, 2018     1.5.2.1  4.1 and up  21189.138428              6.99   \n",
       "3206  July 12, 2018  1.7.110758  4.1 and up  29696.000000              0.99   \n",
       "\n",
       "      Installs(+)  \n",
       "1743     10000000  \n",
       "3206     10000000  "
      ]
     },
     "execution_count": 87,
     "metadata": {},
     "output_type": "execute_result"
    }
   ],
   "source": [
    "sales"
   ]
  },
  {
   "cell_type": "code",
   "execution_count": 88,
   "id": "9101f16f-30b3-4aff-9c68-1d807d11d5f6",
   "metadata": {},
   "outputs": [],
   "source": [
    "#calculate revenue for each sale.\n",
    "sales[\"Google's Revenue per sale\"]= sales['Price in dollars'].apply(lambda x: x*0.3)"
   ]
  },
  {
   "cell_type": "code",
   "execution_count": 89,
   "id": "6a2ca4eb-4b71-4e99-90e2-d410f608572a",
   "metadata": {},
   "outputs": [],
   "source": [
    "#calculate revenue for each app.\n",
    "sales[\"Google's Revenue per app\"]=sales['Installs(+)']*sales[\"Google's Revenue per sale\"]"
   ]
  },
  {
   "cell_type": "code",
   "execution_count": 90,
   "id": "6ba11111-ddc8-4677-9495-a3e03b59cea5",
   "metadata": {},
   "outputs": [
    {
     "name": "stdout",
     "output_type": "stream",
     "text": [
      "Google's estimated revenue from apps with 5,000,000+ installs: 23940000.0\n"
     ]
    }
   ],
   "source": [
    "print(f\"Google's estimated revenue from apps with 5,000,000+ installs: {sales[\"Google's Revenue per app\"].sum()}\")"
   ]
  },
  {
   "cell_type": "code",
   "execution_count": 91,
   "id": "1a9af48b-2bf3-4e8d-b48b-27a9e8262400",
   "metadata": {},
   "outputs": [
    {
     "data": {
      "image/png": "[encoded data removed]",
      "text/plain": [
       "<Figure size 640x480 with 1 Axes>"
      ]
     },
     "metadata": {},
     "output_type": "display_data"
    }
   ],
   "source": [
    "sns.barplot(sales)\n",
    "plt.xticks(rotation=30)\n",
    "plt.show()"
   ]
  },
  {
   "cell_type": "markdown",
   "id": "6ed2e24c-5876-45a0-9d8b-f497c40e4018",
   "metadata": {},
   "source": [
    "##### 9. What are the maximum and minimum sizes of free vs. paid apps?\n"
   ]
  },
  {
   "cell_type": "code",
   "execution_count": 93,
   "id": "72bf626b-7e58-49e8-9867-ca8b22db0f2b",
   "metadata": {},
   "outputs": [],
   "source": [
    "paid=df.loc[df['Type']=='Paid']\n",
    "free=df.loc[df['Type']=='Free']"
   ]
  },
  {
   "cell_type": "code",
   "execution_count": 94,
   "id": "5b2be395-e8b4-4635-9dfd-c7ee96accdbe",
   "metadata": {},
   "outputs": [],
   "source": [
    "smallestfree=free['Size (Kb)'].nsmallest(1)\n",
    "largestfree=free['Size (Kb)'].nlargest(1)\n",
    "smallestpaid=paid['Size (Kb)'].nsmallest(1)\n",
    "largestpaid=paid['Size (Kb)'].nlargest(1)"
   ]
  },
  {
   "cell_type": "code",
   "execution_count": 95,
   "id": "466f6231-d9c4-4401-be11-93fc418a07ea",
   "metadata": {},
   "outputs": [
    {
     "name": "stdout",
     "output_type": "stream",
     "text": [
      "for the given data,\n",
      "minimum size for free apps is: 8.5, while minimum size for paid apps is: 14.0\n",
      "maximum size for free apps is: 102400.0, while maximum size for paid apps is: 102400.0\n"
     ]
    }
   ],
   "source": [
    "print(\"for the given data,\")\n",
    "print(f\"minimum size for free apps is: {smallestfree.iloc[0]}, while minimum size for paid apps is: {smallestpaid.iloc[0]}\")\n",
    "print(f\"maximum size for free apps is: {largestfree.iloc[0]}, while maximum size for paid apps is: {largestpaid.iloc[0]}\")"
   ]
  },
  {
   "cell_type": "code",
   "execution_count": 96,
   "id": "bdae3b87-81d9-4b0f-aab5-69be0fd77f64",
   "metadata": {},
   "outputs": [],
   "source": [
    "s = pd.concat([ free.loc[smallestfree.index], free.loc[largestfree.index], paid.loc[smallestpaid.index], paid.loc[largestpaid.index] ], axis=0)"
   ]
  },
  {
   "cell_type": "code",
   "execution_count": 97,
   "id": "c20b36c4-2c77-4651-92ab-e2ef40f42de6",
   "metadata": {},
   "outputs": [
    {
     "data": {
      "text/plain": [
       "<Axes: xlabel='Type', ylabel='Size (Kb)'>"
      ]
     },
     "execution_count": 97,
     "metadata": {},
     "output_type": "execute_result"
    },
    {
     "data": {
      "image/png": "[encoded data removed]",
      "text/plain": [
       "<Figure size 640x480 with 1 Axes>"
      ]
     },
     "metadata": {},
     "output_type": "display_data"
    }
   ],
   "source": [
    "sns.barplot(y='Size (Kb)',x='Type',data=s)"
   ]
  },
  {
   "cell_type": "code",
   "execution_count": 98,
   "id": "c47779e6-0367-45ec-ba97-1ceb53c56602",
   "metadata": {},
   "outputs": [
    {
     "data": {
      "text/plain": [
       "869    102400.0\n",
       "Name: Size (Kb), dtype: float64"
      ]
     },
     "execution_count": 98,
     "metadata": {},
     "output_type": "execute_result"
    }
   ],
   "source": [
    "largestfree"
   ]
  },
  {
   "cell_type": "code",
   "execution_count": 99,
   "id": "679cc819-8e74-45a7-ab7a-fdb0312d4ed2",
   "metadata": {},
   "outputs": [
    {
     "data": {
      "text/html": [
       "<div>\n",
       "<style scoped>\n",
       "    .dataframe tbody tr th:only-of-type {\n",
       "        vertical-align: middle;\n",
       "    }\n",
       "\n",
       "    .dataframe tbody tr th {\n",
       "        vertical-align: top;\n",
       "    }\n",
       "\n",
       "    .dataframe thead th {\n",
       "        text-align: right;\n",
       "    }\n",
       "</style>\n",
       "<table border=\"1\" class=\"dataframe\">\n",
       "  <thead>\n",
       "    <tr style=\"text-align: right;\">\n",
       "      <th></th>\n",
       "      <th>App</th>\n",
       "      <th>Category</th>\n",
       "      <th>Rating</th>\n",
       "      <th>Reviews</th>\n",
       "      <th>Size</th>\n",
       "      <th>Installs</th>\n",
       "      <th>Type</th>\n",
       "      <th>Price</th>\n",
       "      <th>Content Rating</th>\n",
       "      <th>Genres</th>\n",
       "      <th>Last Updated</th>\n",
       "      <th>Current Ver</th>\n",
       "      <th>Android Ver</th>\n",
       "      <th>Size (Kb)</th>\n",
       "      <th>Price in dollars</th>\n",
       "      <th>Installs(+)</th>\n",
       "    </tr>\n",
       "  </thead>\n",
       "  <tbody>\n",
       "    <tr>\n",
       "      <th>1244</th>\n",
       "      <td>Essential Resources</td>\n",
       "      <td>LIBRARIES AND DEMO</td>\n",
       "      <td>4.6</td>\n",
       "      <td>237</td>\n",
       "      <td>8.5k</td>\n",
       "      <td>50,000+</td>\n",
       "      <td>Free</td>\n",
       "      <td>0</td>\n",
       "      <td>Everyone</td>\n",
       "      <td>Libraries &amp; Demo</td>\n",
       "      <td>September 27, 2017</td>\n",
       "      <td>1.02</td>\n",
       "      <td>7.1 and up</td>\n",
       "      <td>8.5</td>\n",
       "      <td>0.00</td>\n",
       "      <td>50000</td>\n",
       "    </tr>\n",
       "    <tr>\n",
       "      <th>1265</th>\n",
       "      <td>Market Update Helper</td>\n",
       "      <td>LIBRARIES AND DEMO</td>\n",
       "      <td>4.1</td>\n",
       "      <td>20145</td>\n",
       "      <td>11k</td>\n",
       "      <td>1,000,000+</td>\n",
       "      <td>Free</td>\n",
       "      <td>0</td>\n",
       "      <td>Everyone</td>\n",
       "      <td>Libraries &amp; Demo</td>\n",
       "      <td>February 12, 2013</td>\n",
       "      <td>1.0</td>\n",
       "      <td>1.5 and up</td>\n",
       "      <td>11.0</td>\n",
       "      <td>0.00</td>\n",
       "      <td>1000000</td>\n",
       "    </tr>\n",
       "    <tr>\n",
       "      <th>4035</th>\n",
       "      <td>My baby firework (Remove ad)</td>\n",
       "      <td>FAMILY</td>\n",
       "      <td>4.1</td>\n",
       "      <td>30</td>\n",
       "      <td>14k</td>\n",
       "      <td>1,000+</td>\n",
       "      <td>Paid</td>\n",
       "      <td>$0.99</td>\n",
       "      <td>Everyone</td>\n",
       "      <td>Entertainment</td>\n",
       "      <td>April 25, 2013</td>\n",
       "      <td>1.0</td>\n",
       "      <td>4.1 and up</td>\n",
       "      <td>14.0</td>\n",
       "      <td>0.99</td>\n",
       "      <td>1000</td>\n",
       "    </tr>\n",
       "    <tr>\n",
       "      <th>8892</th>\n",
       "      <td>ExDialer PRO Key</td>\n",
       "      <td>COMMUNICATION</td>\n",
       "      <td>4.5</td>\n",
       "      <td>5474</td>\n",
       "      <td>17k</td>\n",
       "      <td>100,000+</td>\n",
       "      <td>Paid</td>\n",
       "      <td>$3.99</td>\n",
       "      <td>Everyone</td>\n",
       "      <td>Communication</td>\n",
       "      <td>January 15, 2014</td>\n",
       "      <td>81</td>\n",
       "      <td>2.1 and up</td>\n",
       "      <td>17.0</td>\n",
       "      <td>3.99</td>\n",
       "      <td>100000</td>\n",
       "    </tr>\n",
       "    <tr>\n",
       "      <th>4030</th>\n",
       "      <td>Ad Remove Plugin for App2SD</td>\n",
       "      <td>PRODUCTIVITY</td>\n",
       "      <td>4.1</td>\n",
       "      <td>66</td>\n",
       "      <td>17k</td>\n",
       "      <td>1,000+</td>\n",
       "      <td>Paid</td>\n",
       "      <td>$1.29</td>\n",
       "      <td>Everyone</td>\n",
       "      <td>Productivity</td>\n",
       "      <td>September 25, 2013</td>\n",
       "      <td>1.0.0</td>\n",
       "      <td>2.2 and up</td>\n",
       "      <td>17.0</td>\n",
       "      <td>1.29</td>\n",
       "      <td>1000</td>\n",
       "    </tr>\n",
       "    <tr>\n",
       "      <th>...</th>\n",
       "      <td>...</td>\n",
       "      <td>...</td>\n",
       "      <td>...</td>\n",
       "      <td>...</td>\n",
       "      <td>...</td>\n",
       "      <td>...</td>\n",
       "      <td>...</td>\n",
       "      <td>...</td>\n",
       "      <td>...</td>\n",
       "      <td>...</td>\n",
       "      <td>...</td>\n",
       "      <td>...</td>\n",
       "      <td>...</td>\n",
       "      <td>...</td>\n",
       "      <td>...</td>\n",
       "      <td>...</td>\n",
       "    </tr>\n",
       "    <tr>\n",
       "      <th>7308</th>\n",
       "      <td>Car Crash III Beam DH Real Damage Simulator 2018</td>\n",
       "      <td>GAME</td>\n",
       "      <td>3.6</td>\n",
       "      <td>151</td>\n",
       "      <td>100M</td>\n",
       "      <td>10,000+</td>\n",
       "      <td>Free</td>\n",
       "      <td>0</td>\n",
       "      <td>Everyone</td>\n",
       "      <td>Racing</td>\n",
       "      <td>May 20, 2018</td>\n",
       "      <td>1.03</td>\n",
       "      <td>4.1 and up</td>\n",
       "      <td>102400.0</td>\n",
       "      <td>0.00</td>\n",
       "      <td>10000</td>\n",
       "    </tr>\n",
       "    <tr>\n",
       "      <th>4552</th>\n",
       "      <td>The Walking Dead: Our World</td>\n",
       "      <td>GAME</td>\n",
       "      <td>4.0</td>\n",
       "      <td>22435</td>\n",
       "      <td>100M</td>\n",
       "      <td>1,000,000+</td>\n",
       "      <td>Free</td>\n",
       "      <td>0</td>\n",
       "      <td>Teen</td>\n",
       "      <td>Action</td>\n",
       "      <td>August 1, 2018</td>\n",
       "      <td>1.1.0.3</td>\n",
       "      <td>5.0 and up</td>\n",
       "      <td>102400.0</td>\n",
       "      <td>0.00</td>\n",
       "      <td>1000000</td>\n",
       "    </tr>\n",
       "    <tr>\n",
       "      <th>3769</th>\n",
       "      <td>Vi Trainer</td>\n",
       "      <td>HEALTH AND FITNESS</td>\n",
       "      <td>3.6</td>\n",
       "      <td>124</td>\n",
       "      <td>100M</td>\n",
       "      <td>5,000+</td>\n",
       "      <td>Free</td>\n",
       "      <td>0</td>\n",
       "      <td>Everyone</td>\n",
       "      <td>Health &amp; Fitness</td>\n",
       "      <td>August 2, 2018</td>\n",
       "      <td>2.0.0.11</td>\n",
       "      <td>5.0 and up</td>\n",
       "      <td>102400.0</td>\n",
       "      <td>0.00</td>\n",
       "      <td>5000</td>\n",
       "    </tr>\n",
       "    <tr>\n",
       "      <th>8032</th>\n",
       "      <td>Stickman Legends: Shadow Wars</td>\n",
       "      <td>GAME</td>\n",
       "      <td>4.4</td>\n",
       "      <td>38419</td>\n",
       "      <td>100M</td>\n",
       "      <td>1,000,000+</td>\n",
       "      <td>Paid</td>\n",
       "      <td>$0.99</td>\n",
       "      <td>Everyone 10+</td>\n",
       "      <td>Action</td>\n",
       "      <td>August 3, 2018</td>\n",
       "      <td>2.3.24</td>\n",
       "      <td>4.1 and up</td>\n",
       "      <td>102400.0</td>\n",
       "      <td>0.99</td>\n",
       "      <td>1000000</td>\n",
       "    </tr>\n",
       "    <tr>\n",
       "      <th>1801</th>\n",
       "      <td>Navi Radiography Pro</td>\n",
       "      <td>MEDICAL</td>\n",
       "      <td>4.7</td>\n",
       "      <td>11</td>\n",
       "      <td>100M</td>\n",
       "      <td>500+</td>\n",
       "      <td>Paid</td>\n",
       "      <td>$15.99</td>\n",
       "      <td>Everyone</td>\n",
       "      <td>Medical</td>\n",
       "      <td>January 14, 2018</td>\n",
       "      <td>1.2.0</td>\n",
       "      <td>4.0.3 and up</td>\n",
       "      <td>102400.0</td>\n",
       "      <td>15.99</td>\n",
       "      <td>500</td>\n",
       "    </tr>\n",
       "  </tbody>\n",
       "</table>\n",
       "<p>9147 rows × 16 columns</p>\n",
       "</div>"
      ],
      "text/plain": [
       "                                                   App            Category  \\\n",
       "1244                               Essential Resources  LIBRARIES AND DEMO   \n",
       "1265                              Market Update Helper  LIBRARIES AND DEMO   \n",
       "4035                      My baby firework (Remove ad)              FAMILY   \n",
       "8892                                  ExDialer PRO Key       COMMUNICATION   \n",
       "4030                       Ad Remove Plugin for App2SD        PRODUCTIVITY   \n",
       "...                                                ...                 ...   \n",
       "7308  Car Crash III Beam DH Real Damage Simulator 2018                GAME   \n",
       "4552                       The Walking Dead: Our World                GAME   \n",
       "3769                                        Vi Trainer  HEALTH AND FITNESS   \n",
       "8032                     Stickman Legends: Shadow Wars                GAME   \n",
       "1801                              Navi Radiography Pro             MEDICAL   \n",
       "\n",
       "      Rating  Reviews  Size    Installs  Type   Price Content Rating  \\\n",
       "1244     4.6      237  8.5k     50,000+  Free       0       Everyone   \n",
       "1265     4.1    20145   11k  1,000,000+  Free       0       Everyone   \n",
       "4035     4.1       30   14k      1,000+  Paid   $0.99       Everyone   \n",
       "8892     4.5     5474   17k    100,000+  Paid   $3.99       Everyone   \n",
       "4030     4.1       66   17k      1,000+  Paid   $1.29       Everyone   \n",
       "...      ...      ...   ...         ...   ...     ...            ...   \n",
       "7308     3.6      151  100M     10,000+  Free       0       Everyone   \n",
       "4552     4.0    22435  100M  1,000,000+  Free       0           Teen   \n",
       "3769     3.6      124  100M      5,000+  Free       0       Everyone   \n",
       "8032     4.4    38419  100M  1,000,000+  Paid   $0.99   Everyone 10+   \n",
       "1801     4.7       11  100M        500+  Paid  $15.99       Everyone   \n",
       "\n",
       "                Genres        Last Updated Current Ver   Android Ver  \\\n",
       "1244  Libraries & Demo  September 27, 2017        1.02    7.1 and up   \n",
       "1265  Libraries & Demo   February 12, 2013         1.0    1.5 and up   \n",
       "4035     Entertainment      April 25, 2013         1.0    4.1 and up   \n",
       "8892     Communication    January 15, 2014          81    2.1 and up   \n",
       "4030      Productivity  September 25, 2013       1.0.0    2.2 and up   \n",
       "...                ...                 ...         ...           ...   \n",
       "7308            Racing        May 20, 2018        1.03    4.1 and up   \n",
       "4552            Action      August 1, 2018     1.1.0.3    5.0 and up   \n",
       "3769  Health & Fitness      August 2, 2018    2.0.0.11    5.0 and up   \n",
       "8032            Action      August 3, 2018      2.3.24    4.1 and up   \n",
       "1801           Medical    January 14, 2018       1.2.0  4.0.3 and up   \n",
       "\n",
       "      Size (Kb)  Price in dollars  Installs(+)  \n",
       "1244        8.5              0.00        50000  \n",
       "1265       11.0              0.00      1000000  \n",
       "4035       14.0              0.99         1000  \n",
       "8892       17.0              3.99       100000  \n",
       "4030       17.0              1.29         1000  \n",
       "...         ...               ...          ...  \n",
       "7308   102400.0              0.00        10000  \n",
       "4552   102400.0              0.00      1000000  \n",
       "3769   102400.0              0.00         5000  \n",
       "8032   102400.0              0.99      1000000  \n",
       "1801   102400.0             15.99          500  \n",
       "\n",
       "[9147 rows x 16 columns]"
      ]
     },
     "execution_count": 99,
     "metadata": {},
     "output_type": "execute_result"
    }
   ],
   "source": [
    "df.sort_values('Size (Kb)')"
   ]
  },
  {
   "cell_type": "markdown",
   "id": "d85e81c2-df45-4edd-93f4-9a328a234e31",
   "metadata": {},
   "source": [
    "##### 10. Is there a correlation between an app’s rating, number of reviews, size, and its price?\n"
   ]
  },
  {
   "cell_type": "code",
   "execution_count": 101,
   "id": "01764bc8-1db7-4524-a67a-73309d84c7fe",
   "metadata": {},
   "outputs": [],
   "source": [
    "dfcorr=df[['Rating','Reviews','Size (Kb)','Price in dollars']]"
   ]
  },
  {
   "cell_type": "code",
   "execution_count": 102,
   "id": "0a88456a-afee-422c-ad9c-d47fe46050e1",
   "metadata": {},
   "outputs": [
    {
     "data": {
      "text/html": [
       "<div>\n",
       "<style scoped>\n",
       "    .dataframe tbody tr th:only-of-type {\n",
       "        vertical-align: middle;\n",
       "    }\n",
       "\n",
       "    .dataframe tbody tr th {\n",
       "        vertical-align: top;\n",
       "    }\n",
       "\n",
       "    .dataframe thead th {\n",
       "        text-align: right;\n",
       "    }\n",
       "</style>\n",
       "<table border=\"1\" class=\"dataframe\">\n",
       "  <thead>\n",
       "    <tr style=\"text-align: right;\">\n",
       "      <th></th>\n",
       "      <th>Rating</th>\n",
       "      <th>Reviews</th>\n",
       "      <th>Size (Kb)</th>\n",
       "      <th>Price in dollars</th>\n",
       "    </tr>\n",
       "  </thead>\n",
       "  <tbody>\n",
       "    <tr>\n",
       "      <th>Rating</th>\n",
       "      <td>1.000000</td>\n",
       "      <td>0.046337</td>\n",
       "      <td>0.010404</td>\n",
       "      <td>-0.029405</td>\n",
       "    </tr>\n",
       "    <tr>\n",
       "      <th>Reviews</th>\n",
       "      <td>0.046337</td>\n",
       "      <td>1.000000</td>\n",
       "      <td>0.086589</td>\n",
       "      <td>-0.007610</td>\n",
       "    </tr>\n",
       "    <tr>\n",
       "      <th>Size (Kb)</th>\n",
       "      <td>0.010404</td>\n",
       "      <td>0.086589</td>\n",
       "      <td>1.000000</td>\n",
       "      <td>-0.017226</td>\n",
       "    </tr>\n",
       "    <tr>\n",
       "      <th>Price in dollars</th>\n",
       "      <td>-0.029405</td>\n",
       "      <td>-0.007610</td>\n",
       "      <td>-0.017226</td>\n",
       "      <td>1.000000</td>\n",
       "    </tr>\n",
       "  </tbody>\n",
       "</table>\n",
       "</div>"
      ],
      "text/plain": [
       "                    Rating   Reviews  Size (Kb)  Price in dollars\n",
       "Rating            1.000000  0.046337   0.010404         -0.029405\n",
       "Reviews           0.046337  1.000000   0.086589         -0.007610\n",
       "Size (Kb)         0.010404  0.086589   1.000000         -0.017226\n",
       "Price in dollars -0.029405 -0.007610  -0.017226          1.000000"
      ]
     },
     "execution_count": 102,
     "metadata": {},
     "output_type": "execute_result"
    }
   ],
   "source": [
    "dfcorr.corr()"
   ]
  },
  {
   "cell_type": "code",
   "execution_count": 103,
   "id": "ee4731f1-3d4f-4081-b296-f494a3d81f07",
   "metadata": {},
   "outputs": [
    {
     "data": {
      "image/png": "[encoded data removed]",
      "text/plain": [
       "<Figure size 1800x1500 with 2 Axes>"
      ]
     },
     "metadata": {},
     "output_type": "display_data"
    }
   ],
   "source": [
    "#plot a heatmap for further analysis.\n",
    "plt.figure(figsize=(18, 15))\n",
    "sns.heatmap(dfcorr.corr(), annot=True, cmap='coolwarm', fmt='.2f')\n",
    "plt.title('Correlation Heatmap')\n",
    "plt.xlabel(\"No relation between an app's rating, reviews or size and it's price\",fontsize=20)\n",
    "plt.show()"
   ]
  },
  {
   "cell_type": "markdown",
   "id": "5c5bbab7-e853-4cbc-902e-4db6d7e3ece1",
   "metadata": {},
   "source": [
    "##### 11. How many apps exist for each type (free/paid) across different content ratings?\n"
   ]
  },
  {
   "cell_type": "code",
   "execution_count": 105,
   "id": "ba6e4234-b588-464e-87ee-5c1ae6261abb",
   "metadata": {},
   "outputs": [],
   "source": [
    "app_counts = df.groupby(['Type', 'Content Rating']).size().reset_index(name='Count')"
   ]
  },
  {
   "cell_type": "code",
   "execution_count": 106,
   "id": "34e024ea-a33b-4cb4-bf28-8c761bb90a77",
   "metadata": {},
   "outputs": [
    {
     "data": {
      "text/html": [
       "<div>\n",
       "<style scoped>\n",
       "    .dataframe tbody tr th:only-of-type {\n",
       "        vertical-align: middle;\n",
       "    }\n",
       "\n",
       "    .dataframe tbody tr th {\n",
       "        vertical-align: top;\n",
       "    }\n",
       "\n",
       "    .dataframe thead th {\n",
       "        text-align: right;\n",
       "    }\n",
       "</style>\n",
       "<table border=\"1\" class=\"dataframe\">\n",
       "  <thead>\n",
       "    <tr style=\"text-align: right;\">\n",
       "      <th></th>\n",
       "      <th>Type</th>\n",
       "      <th>Content Rating</th>\n",
       "      <th>Count</th>\n",
       "    </tr>\n",
       "  </thead>\n",
       "  <tbody>\n",
       "    <tr>\n",
       "      <th>0</th>\n",
       "      <td>Free</td>\n",
       "      <td>Adults only 18+</td>\n",
       "      <td>3</td>\n",
       "    </tr>\n",
       "    <tr>\n",
       "      <th>1</th>\n",
       "      <td>Free</td>\n",
       "      <td>Everyone</td>\n",
       "      <td>6822</td>\n",
       "    </tr>\n",
       "    <tr>\n",
       "      <th>2</th>\n",
       "      <td>Free</td>\n",
       "      <td>Everyone 10+</td>\n",
       "      <td>285</td>\n",
       "    </tr>\n",
       "    <tr>\n",
       "      <th>3</th>\n",
       "      <td>Free</td>\n",
       "      <td>Mature 17+</td>\n",
       "      <td>357</td>\n",
       "    </tr>\n",
       "    <tr>\n",
       "      <th>4</th>\n",
       "      <td>Free</td>\n",
       "      <td>Teen</td>\n",
       "      <td>961</td>\n",
       "    </tr>\n",
       "    <tr>\n",
       "      <th>5</th>\n",
       "      <td>Free</td>\n",
       "      <td>Unrated</td>\n",
       "      <td>2</td>\n",
       "    </tr>\n",
       "    <tr>\n",
       "      <th>6</th>\n",
       "      <td>Paid</td>\n",
       "      <td>Everyone</td>\n",
       "      <td>616</td>\n",
       "    </tr>\n",
       "    <tr>\n",
       "      <th>7</th>\n",
       "      <td>Paid</td>\n",
       "      <td>Everyone 10+</td>\n",
       "      <td>31</td>\n",
       "    </tr>\n",
       "    <tr>\n",
       "      <th>8</th>\n",
       "      <td>Paid</td>\n",
       "      <td>Mature 17+</td>\n",
       "      <td>18</td>\n",
       "    </tr>\n",
       "    <tr>\n",
       "      <th>9</th>\n",
       "      <td>Paid</td>\n",
       "      <td>Teen</td>\n",
       "      <td>52</td>\n",
       "    </tr>\n",
       "  </tbody>\n",
       "</table>\n",
       "</div>"
      ],
      "text/plain": [
       "   Type   Content Rating  Count\n",
       "0  Free  Adults only 18+      3\n",
       "1  Free         Everyone   6822\n",
       "2  Free     Everyone 10+    285\n",
       "3  Free       Mature 17+    357\n",
       "4  Free             Teen    961\n",
       "5  Free          Unrated      2\n",
       "6  Paid         Everyone    616\n",
       "7  Paid     Everyone 10+     31\n",
       "8  Paid       Mature 17+     18\n",
       "9  Paid             Teen     52"
      ]
     },
     "execution_count": 106,
     "metadata": {},
     "output_type": "execute_result"
    }
   ],
   "source": [
    "app_counts"
   ]
  },
  {
   "cell_type": "code",
   "execution_count": 107,
   "id": "e78e49b3-9945-43d1-ac20-872a63fc3768",
   "metadata": {},
   "outputs": [
    {
     "data": {
      "image/png": "[encoded data removed]",
      "text/plain": [
       "<Figure size 640x480 with 1 Axes>"
      ]
     },
     "metadata": {},
     "output_type": "display_data"
    }
   ],
   "source": [
    "sns.barplot(x='Content Rating',y='Count',hue='Type',data=app_counts)\n",
    "plt.xticks(rotation=20)\n",
    "plt.show()"
   ]
  },
  {
   "cell_type": "markdown",
   "id": "95daabe0-86d7-44d1-92c8-174b44fbde8b",
   "metadata": {},
   "source": [
    "##### 12. How many apps are compatible with Android version 4.x?"
   ]
  },
  {
   "cell_type": "code",
   "execution_count": 109,
   "id": "a8cc686e-646d-474a-9948-03ea47880207",
   "metadata": {},
   "outputs": [
    {
     "data": {
      "text/plain": [
       "6936"
      ]
     },
     "execution_count": 109,
     "metadata": {},
     "output_type": "execute_result"
    }
   ],
   "source": [
    "Av4=df[df['Android Ver'].str.startswith('4')]\n",
    "Av4.shape[0]"
   ]
  },
  {
   "cell_type": "code",
   "execution_count": 110,
   "id": "f53d1c1c-58fc-4ca4-9104-5af0f3239520",
   "metadata": {},
   "outputs": [
    {
     "data": {
      "text/html": [
       "<div>\n",
       "<style scoped>\n",
       "    .dataframe tbody tr th:only-of-type {\n",
       "        vertical-align: middle;\n",
       "    }\n",
       "\n",
       "    .dataframe tbody tr th {\n",
       "        vertical-align: top;\n",
       "    }\n",
       "\n",
       "    .dataframe thead th {\n",
       "        text-align: right;\n",
       "    }\n",
       "</style>\n",
       "<table border=\"1\" class=\"dataframe\">\n",
       "  <thead>\n",
       "    <tr style=\"text-align: right;\">\n",
       "      <th></th>\n",
       "      <th>App</th>\n",
       "      <th>Category</th>\n",
       "      <th>Rating</th>\n",
       "      <th>Reviews</th>\n",
       "      <th>Size</th>\n",
       "      <th>Installs</th>\n",
       "      <th>Type</th>\n",
       "      <th>Price</th>\n",
       "      <th>Content Rating</th>\n",
       "      <th>Genres</th>\n",
       "      <th>Last Updated</th>\n",
       "      <th>Current Ver</th>\n",
       "      <th>Android Ver</th>\n",
       "      <th>Size (Kb)</th>\n",
       "      <th>Price in dollars</th>\n",
       "      <th>Installs(+)</th>\n",
       "    </tr>\n",
       "  </thead>\n",
       "  <tbody>\n",
       "    <tr>\n",
       "      <th>0</th>\n",
       "      <td>Photo Editor &amp; Candy Camera &amp; Grid &amp; ScrapBook</td>\n",
       "      <td>ART AND DESIGN</td>\n",
       "      <td>4.1</td>\n",
       "      <td>159</td>\n",
       "      <td>19M</td>\n",
       "      <td>10,000+</td>\n",
       "      <td>Free</td>\n",
       "      <td>0</td>\n",
       "      <td>Everyone</td>\n",
       "      <td>Art &amp; Design</td>\n",
       "      <td>January 7, 2018</td>\n",
       "      <td>1.0.0</td>\n",
       "      <td>4.0.3 and up</td>\n",
       "      <td>19456.0</td>\n",
       "      <td>0.0</td>\n",
       "      <td>10000</td>\n",
       "    </tr>\n",
       "    <tr>\n",
       "      <th>1</th>\n",
       "      <td>Coloring book moana</td>\n",
       "      <td>ART AND DESIGN</td>\n",
       "      <td>3.9</td>\n",
       "      <td>967</td>\n",
       "      <td>14M</td>\n",
       "      <td>500,000+</td>\n",
       "      <td>Free</td>\n",
       "      <td>0</td>\n",
       "      <td>Everyone</td>\n",
       "      <td>Art &amp; Design;Pretend Play</td>\n",
       "      <td>January 15, 2018</td>\n",
       "      <td>2.0.0</td>\n",
       "      <td>4.0.3 and up</td>\n",
       "      <td>14336.0</td>\n",
       "      <td>0.0</td>\n",
       "      <td>500000</td>\n",
       "    </tr>\n",
       "    <tr>\n",
       "      <th>2</th>\n",
       "      <td>U Launcher Lite – FREE Live Cool Themes, Hide ...</td>\n",
       "      <td>ART AND DESIGN</td>\n",
       "      <td>4.7</td>\n",
       "      <td>87510</td>\n",
       "      <td>8.7M</td>\n",
       "      <td>5,000,000+</td>\n",
       "      <td>Free</td>\n",
       "      <td>0</td>\n",
       "      <td>Everyone</td>\n",
       "      <td>Art &amp; Design</td>\n",
       "      <td>August 1, 2018</td>\n",
       "      <td>1.2.4</td>\n",
       "      <td>4.0.3 and up</td>\n",
       "      <td>8908.8</td>\n",
       "      <td>0.0</td>\n",
       "      <td>5000000</td>\n",
       "    </tr>\n",
       "    <tr>\n",
       "      <th>3</th>\n",
       "      <td>Sketch - Draw &amp; Paint</td>\n",
       "      <td>ART AND DESIGN</td>\n",
       "      <td>4.5</td>\n",
       "      <td>215644</td>\n",
       "      <td>25M</td>\n",
       "      <td>50,000,000+</td>\n",
       "      <td>Free</td>\n",
       "      <td>0</td>\n",
       "      <td>Teen</td>\n",
       "      <td>Art &amp; Design</td>\n",
       "      <td>June 8, 2018</td>\n",
       "      <td>1.0</td>\n",
       "      <td>4.2 and up</td>\n",
       "      <td>25600.0</td>\n",
       "      <td>0.0</td>\n",
       "      <td>50000000</td>\n",
       "    </tr>\n",
       "    <tr>\n",
       "      <th>4</th>\n",
       "      <td>Pixel Draw - Number Art Coloring Book</td>\n",
       "      <td>ART AND DESIGN</td>\n",
       "      <td>4.3</td>\n",
       "      <td>967</td>\n",
       "      <td>2.8M</td>\n",
       "      <td>100,000+</td>\n",
       "      <td>Free</td>\n",
       "      <td>0</td>\n",
       "      <td>Everyone</td>\n",
       "      <td>Art &amp; Design;Creativity</td>\n",
       "      <td>June 20, 2018</td>\n",
       "      <td>1.1</td>\n",
       "      <td>4.4 and up</td>\n",
       "      <td>2867.2</td>\n",
       "      <td>0.0</td>\n",
       "      <td>100000</td>\n",
       "    </tr>\n",
       "  </tbody>\n",
       "</table>\n",
       "</div>"
      ],
      "text/plain": [
       "                                                 App        Category  Rating  \\\n",
       "0     Photo Editor & Candy Camera & Grid & ScrapBook  ART AND DESIGN     4.1   \n",
       "1                                Coloring book moana  ART AND DESIGN     3.9   \n",
       "2  U Launcher Lite – FREE Live Cool Themes, Hide ...  ART AND DESIGN     4.7   \n",
       "3                              Sketch - Draw & Paint  ART AND DESIGN     4.5   \n",
       "4              Pixel Draw - Number Art Coloring Book  ART AND DESIGN     4.3   \n",
       "\n",
       "   Reviews  Size     Installs  Type Price Content Rating  \\\n",
       "0      159   19M      10,000+  Free     0       Everyone   \n",
       "1      967   14M     500,000+  Free     0       Everyone   \n",
       "2    87510  8.7M   5,000,000+  Free     0       Everyone   \n",
       "3   215644   25M  50,000,000+  Free     0           Teen   \n",
       "4      967  2.8M     100,000+  Free     0       Everyone   \n",
       "\n",
       "                      Genres      Last Updated Current Ver   Android Ver  \\\n",
       "0               Art & Design   January 7, 2018       1.0.0  4.0.3 and up   \n",
       "1  Art & Design;Pretend Play  January 15, 2018       2.0.0  4.0.3 and up   \n",
       "2               Art & Design    August 1, 2018       1.2.4  4.0.3 and up   \n",
       "3               Art & Design      June 8, 2018         1.0    4.2 and up   \n",
       "4    Art & Design;Creativity     June 20, 2018         1.1    4.4 and up   \n",
       "\n",
       "   Size (Kb)  Price in dollars  Installs(+)  \n",
       "0    19456.0               0.0        10000  \n",
       "1    14336.0               0.0       500000  \n",
       "2     8908.8               0.0      5000000  \n",
       "3    25600.0               0.0     50000000  \n",
       "4     2867.2               0.0       100000  "
      ]
     },
     "execution_count": 110,
     "metadata": {},
     "output_type": "execute_result"
    }
   ],
   "source": [
    "Av4.head()"
   ]
  },
  {
   "cell_type": "code",
   "execution_count": 111,
   "id": "a1e14f02-61c8-4655-9053-0ee4a7eed8f1",
   "metadata": {},
   "outputs": [
    {
     "data": {
      "image/png": "[encoded data removed]",
      "text/plain": [
       "<Figure size 640x480 with 1 Axes>"
      ]
     },
     "metadata": {},
     "output_type": "display_data"
    }
   ],
   "source": [
    "sns.countplot(x='Android Ver',data=Av4)\n",
    "plt.xticks(rotation=30)\n",
    "plt.show()"
   ]
  }
 ],
 "metadata": {
  "kernelspec": {
   "display_name": "Python 3 (ipykernel)",
   "language": "python",
   "name": "python3"
  },
  "language_info": {
   "codemirror_mode": {
    "name": "ipython",
    "version": 3
   },
   "file_extension": ".py",
   "mimetype": "text/x-python",
   "name": "python",
   "nbconvert_exporter": "python",
   "pygments_lexer": "ipython3",
   "version": "3.12.4"
  }
 },
 "nbformat": 4,
 "nbformat_minor": 5
}
